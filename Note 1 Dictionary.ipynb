{
 "cells": [
  {
   "cell_type": "markdown",
   "metadata": {},
   "source": [
    "Dictionary:"
   ]
  },
  {
   "cell_type": "code",
   "execution_count": 1,
   "metadata": {},
   "outputs": [],
   "source": [
    "Dictionary_1 = {'key':'value',\n",
    "               'key2':'value2',\n",
    "               'key3':'value3'}  #to create a dictionary"
   ]
  },
  {
   "cell_type": "code",
   "execution_count": 8,
   "metadata": {},
   "outputs": [
    {
     "name": "stdout",
     "output_type": "stream",
     "text": [
      "{'key': 'value', 'key2': 'value2', 'key3': 'value3'}\n"
     ]
    }
   ],
   "source": [
    "print(Dictionary_1)"
   ]
  },
  {
   "cell_type": "code",
   "execution_count": 18,
   "metadata": {},
   "outputs": [
    {
     "data": {
      "text/plain": [
       "'value2'"
      ]
     },
     "execution_count": 18,
     "metadata": {},
     "output_type": "execute_result"
    }
   ],
   "source": [
    "Dictionary_1['key2']  #to call the value by specific key"
   ]
  },
  {
   "cell_type": "code",
   "execution_count": 16,
   "metadata": {},
   "outputs": [
    {
     "data": {
      "text/plain": [
       "'This key is not in the dictionary'"
      ]
     },
     "execution_count": 16,
     "metadata": {},
     "output_type": "execute_result"
    }
   ],
   "source": [
    "Dictionary_1.get('key4','This key is not in the dictionary')  #to call the value without KeyError"
   ]
  },
  {
   "cell_type": "code",
   "execution_count": 5,
   "metadata": {},
   "outputs": [
    {
     "data": {
      "text/plain": [
       "3"
      ]
     },
     "execution_count": 5,
     "metadata": {},
     "output_type": "execute_result"
    }
   ],
   "source": [
    "len(Dictionary_1)  #to see how many pairs of keys and values in the dictionary"
   ]
  },
  {
   "cell_type": "code",
   "execution_count": 6,
   "metadata": {},
   "outputs": [],
   "source": [
    "Dictionary_2 = {'key':['value_a','value_b','value_c'],\n",
    "                'key2':['value_d','value_e'],\n",
    "                'key3':'value_f',\n",
    "                'key4':['value_g','value_h']}"
   ]
  },
  {
   "cell_type": "code",
   "execution_count": 7,
   "metadata": {},
   "outputs": [
    {
     "data": {
      "text/plain": [
       "{'key': ['value_a', 'value_b', 'value_c'],\n",
       " 'key2': ['value_d', 'value_e'],\n",
       " 'key3': 'value_f',\n",
       " 'key4': ['value_g', 'value_h']}"
      ]
     },
     "execution_count": 7,
     "metadata": {},
     "output_type": "execute_result"
    }
   ],
   "source": [
    "Dictionary_2"
   ]
  },
  {
   "cell_type": "code",
   "execution_count": 13,
   "metadata": {},
   "outputs": [
    {
     "data": {
      "text/plain": [
       "'value_c'"
      ]
     },
     "execution_count": 13,
     "metadata": {},
     "output_type": "execute_result"
    }
   ],
   "source": [
    "Dictionary_2['key'][2]"
   ]
  },
  {
   "cell_type": "code",
   "execution_count": 26,
   "metadata": {},
   "outputs": [
    {
     "data": {
      "text/plain": [
       "dict_keys(['key', 'key2', 'key3', 'key4'])"
      ]
     },
     "execution_count": 26,
     "metadata": {},
     "output_type": "execute_result"
    }
   ],
   "source": [
    "Dictionary_2.keys()  #to call all the keys in the dictionary"
   ]
  },
  {
   "cell_type": "code",
   "execution_count": 27,
   "metadata": {},
   "outputs": [
    {
     "data": {
      "text/plain": [
       "dict_values([['value_a', 'value_b', 'value_c'], ['value_d', 'value_e'], 'value_f', ['value_g', 'value_h']])"
      ]
     },
     "execution_count": 27,
     "metadata": {},
     "output_type": "execute_result"
    }
   ],
   "source": [
    "Dictionary_2.values()  #to call all the values in the dictionary"
   ]
  },
  {
   "cell_type": "code",
   "execution_count": 28,
   "metadata": {},
   "outputs": [
    {
     "data": {
      "text/plain": [
       "dict_items([('key', ['value_a', 'value_b', 'value_c']), ('key2', ['value_d', 'value_e']), ('key3', 'value_f'), ('key4', ['value_g', 'value_h'])])"
      ]
     },
     "execution_count": 28,
     "metadata": {},
     "output_type": "execute_result"
    }
   ],
   "source": [
    "Dictionary_2.items()  #to call all pairs of keys and values"
   ]
  },
  {
   "cell_type": "code",
   "execution_count": 57,
   "metadata": {},
   "outputs": [
    {
     "name": "stdout",
     "output_type": "stream",
     "text": [
      "please enter the value to search:apple\n",
      "The value apple does not exist in the dictionary\n"
     ]
    }
   ],
   "source": [
    "#to call key name by value (code doesn't work, need fix later)\n",
    "Key = []\n",
    "Value = []\n",
    "Dictionary_3 = {'fruit':['apple','peach','banana','avocado','tomato'],\n",
    "               'vegetable':['potato','lettuce','cabbage','tomato','avocado'],\n",
    "               'drink':['water','soda','beer','wine'],\n",
    "               'meat':['pork','beef','lamb','chicken']}\n",
    "for key, value in Dictionary_3.items():\n",
    "    Key.append(key)\n",
    "    Value.append(value)\n",
    "\n",
    "search_value = input('please enter the value to search:')\n",
    "\n",
    "if search_value in Value:\n",
    "        search_value_index = Value.index(search_value)\n",
    "        print('The corresponding key is: %s'% Key[search_value_index])\n",
    "else:\n",
    "    print('The value %s does not exist in the dictionary'% search_value)"
   ]
  },
  {
   "cell_type": "code",
   "execution_count": null,
   "metadata": {},
   "outputs": [],
   "source": []
  }
 ],
 "metadata": {
  "kernelspec": {
   "display_name": "Python 3",
   "language": "python",
   "name": "python3"
  },
  "language_info": {
   "codemirror_mode": {
    "name": "ipython",
    "version": 3
   },
   "file_extension": ".py",
   "mimetype": "text/x-python",
   "name": "python",
   "nbconvert_exporter": "python",
   "pygments_lexer": "ipython3",
   "version": "3.8.5"
  }
 },
 "nbformat": 4,
 "nbformat_minor": 4
}
