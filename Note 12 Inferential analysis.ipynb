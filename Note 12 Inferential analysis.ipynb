
{
 "cells": [
  {
   "cell_type": "code",
   "execution_count": 1,
   "metadata": {},
   "outputs": [],
   "source": [
    "import pandas as pd\n",
    "import numpy as np\n",
    "import scipy.stats as stats"
   ]
  },
  {
   "cell_type": "code",
   "execution_count": 2,
   "metadata": {},
   "outputs": [
    {
     "name": "stdout",
     "output_type": "stream",
     "text": [
      "<class 'pandas.core.frame.DataFrame'>\n",
      "RangeIndex: 63 entries, 0 to 62\n",
      "Data columns (total 4 columns):\n",
      " #   Column        Non-Null Count  Dtype  \n",
      "---  ------        --------------  -----  \n",
      " 0   visit number  63 non-null     int64  \n",
      " 1   product 1     48 non-null     float64\n",
      " 2   product 2     45 non-null     float64\n",
      " 3   product 3     44 non-null     float64\n",
      "dtypes: float64(3), int64(1)\n",
      "memory usage: 2.1 KB\n"
     ]
    }
   ],
   "source": [
    "data = pd.read_csv('visit-sales.csv')\n",
    "data.info()"
   ]
  },
  {
   "cell_type": "code",
   "execution_count": 3,
   "metadata": {},
   "outputs": [],
   "source": [
    "sample = data['product 1']\n",
    "sample.dropna(inplace = True)"
   ]
  },
  {
   "cell_type": "code",
   "execution_count": 4,
   "metadata": {},
   "outputs": [],
   "source": [
    "sample.reset_index(inplace=True, drop=True)"
   ]
  },
  {
   "cell_type": "code",
   "execution_count": 5,
   "metadata": {},
   "outputs": [
    {
     "data": {
      "text/plain": [
       "0     89.74\n",
       "1     36.58\n",
       "2     47.59\n",
       "3     85.93\n",
       "4     32.53\n",
       "5     69.37\n",
       "6     85.60\n",
       "7     64.44\n",
       "8     88.30\n",
       "9     96.49\n",
       "10    32.49\n",
       "11    38.23\n",
       "12    60.89\n",
       "13    42.62\n",
       "14    21.30\n",
       "15    26.13\n",
       "16    31.83\n",
       "17    92.05\n",
       "18    43.77\n",
       "19    24.03\n",
       "20    39.05\n",
       "21    42.73\n",
       "22    29.27\n",
       "23    89.32\n",
       "24     3.61\n",
       "25    10.14\n",
       "26    41.52\n",
       "27    92.13\n",
       "28    42.24\n",
       "29    65.46\n",
       "30    61.46\n",
       "31    76.67\n",
       "32    11.73\n",
       "33    63.91\n",
       "34    70.01\n",
       "35    37.20\n",
       "36     0.85\n",
       "37    30.28\n",
       "38    41.21\n",
       "39    23.40\n",
       "40    52.11\n",
       "41    81.88\n",
       "42     2.03\n",
       "43    60.38\n",
       "44    62.00\n",
       "45    79.47\n",
       "46    88.50\n",
       "47    35.57\n",
       "Name: product 1, dtype: float64"
      ]
     },
     "execution_count": 5,
     "metadata": {},
     "output_type": "execute_result"
    }
   ],
   "source": [
    "sample"
   ]
  },
  {
   "cell_type": "code",
   "execution_count": 6,
   "metadata": {},
   "outputs": [
    {
     "data": {
      "text/plain": [
       "(43.05661669825457, 58.77838330174545)"
      ]
     },
     "execution_count": 6,
     "metadata": {},
     "output_type": "execute_result"
    }
   ],
   "source": [
    "stats.t.interval(alpha=0.95, df=len(sample)-1, loc=sample.mean(),scale=stats.sem(sample))"
   ]
  },
  {
   "cell_type": "code",
   "execution_count": 7,
   "metadata": {},
   "outputs": [
    {
     "data": {
      "text/plain": [
       "2.0117405104757546"
      ]
     },
     "execution_count": 7,
     "metadata": {},
     "output_type": "execute_result"
    }
   ],
   "source": [
    "t = stats.t.ppf(0.975, len(sample)-1)  #0.975 = (1-0.95)/2+0.95\n",
    "t"
   ]
  },
  {
   "cell_type": "code",
   "execution_count": 8,
   "metadata": {},
   "outputs": [
    {
     "data": {
      "text/plain": [
       "50.91750000000001"
      ]
     },
     "execution_count": 8,
     "metadata": {},
     "output_type": "execute_result"
    }
   ],
   "source": [
    "xbar = sample.mean()\n",
    "xbar"
   ]
  },
  {
   "cell_type": "code",
   "execution_count": 9,
   "metadata": {},
   "outputs": [
    {
     "data": {
      "text/plain": [
       "3.9075036073546188"
      ]
     },
     "execution_count": 9,
     "metadata": {},
     "output_type": "execute_result"
    }
   ],
   "source": [
    "sem = sample.std()/np.sqrt(len(sample))\n",
    "sem"
   ]
  },
  {
   "cell_type": "code",
   "execution_count": 10,
   "metadata": {},
   "outputs": [
    {
     "data": {
      "text/plain": [
       "58.77838330174544"
      ]
     },
     "execution_count": 10,
     "metadata": {},
     "output_type": "execute_result"
    }
   ],
   "source": [
    "xbar+t*sem  #上区间"
   ]
  },
  {
   "cell_type": "code",
   "execution_count": 11,
   "metadata": {},
   "outputs": [
    {
     "data": {
      "text/plain": [
       "43.05661669825458"
      ]
     },
     "execution_count": 11,
     "metadata": {},
     "output_type": "execute_result"
    }
   ],
   "source": [
    "xbar-t*sem  #下区间"
   ]
  },
  {
   "cell_type": "code",
   "execution_count": null,
   "metadata": {},
   "outputs": [],
   "source": []
  }
 ],
 "metadata": {
  "kernelspec": {
   "display_name": "Python 3",
   "language": "python",
   "name": "python3"
  },
  "language_info": {
   "codemirror_mode": {
    "name": "ipython",
    "version": 3
   },
   "file_extension": ".py",
   "mimetype": "text/x-python",
   "name": "python",
   "nbconvert_exporter": "python",
   "pygments_lexer": "ipython3",
   "version": "3.8.5"
  }
 },
 "nbformat": 4,
 "nbformat_minor": 4
}
