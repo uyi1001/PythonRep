
{
 "cells": [
  {
   "cell_type": "code",
   "execution_count": 1,
   "metadata": {},
   "outputs": [],
   "source": [
    "import pandas as pd\n",
    "import numpy as np"
   ]
  },
  {
   "cell_type": "code",
   "execution_count": 2,
   "metadata": {},
   "outputs": [],
   "source": [
    "data = pd.read_csv('Survey Form Responses-Final.csv')"
   ]
  },
  {
   "cell_type": "code",
   "execution_count": 3,
   "metadata": {},
   "outputs": [
    {
     "data": {
      "text/html": [
       "<div>\n",
       "<style scoped>\n",
       "    .dataframe tbody tr th:only-of-type {\n",
       "        vertical-align: middle;\n",
       "    }\n",
       "\n",
       "    .dataframe tbody tr th {\n",
       "        vertical-align: top;\n",
       "    }\n",
       "\n",
       "    .dataframe thead th {\n",
       "        text-align: right;\n",
       "    }\n",
       "</style>\n",
       "<table border=\"1\" class=\"dataframe\">\n",
       "  <thead>\n",
       "    <tr style=\"text-align: right;\">\n",
       "      <th></th>\n",
       "      <th>RID</th>\n",
       "      <th>Gender</th>\n",
       "      <th>Age</th>\n",
       "      <th>Education</th>\n",
       "      <th>Profession</th>\n",
       "      <th>Monthly_Income</th>\n",
       "      <th>Bank_Account</th>\n",
       "      <th>Which_bank</th>\n",
       "      <th>Status_of_Usage</th>\n",
       "      <th>Attributes_Quality</th>\n",
       "      <th>...</th>\n",
       "      <th>ATM_Frequency</th>\n",
       "      <th>ATM_Location_Satisfaction</th>\n",
       "      <th>ATM_Card_Block_Problem</th>\n",
       "      <th>ATM_Out_of_Cash_Problem</th>\n",
       "      <th>ATM_Non_Printing_Problem</th>\n",
       "      <th>ATM_Out_of_Order_Problem</th>\n",
       "      <th>ATM_Long_Waiting_Time_Problem</th>\n",
       "      <th>ATM_Reduction_of_Balance_Problem</th>\n",
       "      <th>Security_ATMs</th>\n",
       "      <th>Intent_to_Return</th>\n",
       "    </tr>\n",
       "  </thead>\n",
       "  <tbody>\n",
       "    <tr>\n",
       "      <th>0</th>\n",
       "      <td>1</td>\n",
       "      <td>male</td>\n",
       "      <td>20-25</td>\n",
       "      <td>post graduate</td>\n",
       "      <td>student</td>\n",
       "      <td>2</td>\n",
       "      <td>yes</td>\n",
       "      <td>SBI</td>\n",
       "      <td>1-5 years</td>\n",
       "      <td>2</td>\n",
       "      <td>...</td>\n",
       "      <td>3</td>\n",
       "      <td>2</td>\n",
       "      <td>2</td>\n",
       "      <td>1</td>\n",
       "      <td>1</td>\n",
       "      <td>1</td>\n",
       "      <td>1</td>\n",
       "      <td>2</td>\n",
       "      <td>4</td>\n",
       "      <td>0</td>\n",
       "    </tr>\n",
       "    <tr>\n",
       "      <th>1</th>\n",
       "      <td>2</td>\n",
       "      <td>Female</td>\n",
       "      <td>20-25</td>\n",
       "      <td>post graduate</td>\n",
       "      <td>student</td>\n",
       "      <td>2</td>\n",
       "      <td>yes</td>\n",
       "      <td>BOB</td>\n",
       "      <td>5-10 years</td>\n",
       "      <td>2</td>\n",
       "      <td>...</td>\n",
       "      <td>3</td>\n",
       "      <td>4</td>\n",
       "      <td>3</td>\n",
       "      <td>1</td>\n",
       "      <td>1</td>\n",
       "      <td>1</td>\n",
       "      <td>1</td>\n",
       "      <td>2</td>\n",
       "      <td>3</td>\n",
       "      <td>0</td>\n",
       "    </tr>\n",
       "    <tr>\n",
       "      <th>2</th>\n",
       "      <td>3</td>\n",
       "      <td>male</td>\n",
       "      <td>20-25</td>\n",
       "      <td>post graduate</td>\n",
       "      <td>student</td>\n",
       "      <td>0</td>\n",
       "      <td>yes</td>\n",
       "      <td>SBI</td>\n",
       "      <td>1-5 years</td>\n",
       "      <td>2</td>\n",
       "      <td>...</td>\n",
       "      <td>2</td>\n",
       "      <td>3</td>\n",
       "      <td>2</td>\n",
       "      <td>1</td>\n",
       "      <td>1</td>\n",
       "      <td>1</td>\n",
       "      <td>2</td>\n",
       "      <td>2</td>\n",
       "      <td>2</td>\n",
       "      <td>1</td>\n",
       "    </tr>\n",
       "    <tr>\n",
       "      <th>3</th>\n",
       "      <td>4</td>\n",
       "      <td>male</td>\n",
       "      <td>20-25</td>\n",
       "      <td>post graduate</td>\n",
       "      <td>student</td>\n",
       "      <td>0</td>\n",
       "      <td>yes</td>\n",
       "      <td>BOB</td>\n",
       "      <td>1-5 years</td>\n",
       "      <td>2</td>\n",
       "      <td>...</td>\n",
       "      <td>1</td>\n",
       "      <td>1</td>\n",
       "      <td>3</td>\n",
       "      <td>3</td>\n",
       "      <td>3</td>\n",
       "      <td>3</td>\n",
       "      <td>3</td>\n",
       "      <td>3</td>\n",
       "      <td>2</td>\n",
       "      <td>0</td>\n",
       "    </tr>\n",
       "    <tr>\n",
       "      <th>4</th>\n",
       "      <td>5</td>\n",
       "      <td>male</td>\n",
       "      <td>20-25</td>\n",
       "      <td>graduate</td>\n",
       "      <td>student</td>\n",
       "      <td>2</td>\n",
       "      <td>yes</td>\n",
       "      <td>SBI</td>\n",
       "      <td>5-10 years</td>\n",
       "      <td>4</td>\n",
       "      <td>...</td>\n",
       "      <td>2</td>\n",
       "      <td>3</td>\n",
       "      <td>2</td>\n",
       "      <td>2</td>\n",
       "      <td>2</td>\n",
       "      <td>1</td>\n",
       "      <td>2</td>\n",
       "      <td>2</td>\n",
       "      <td>3</td>\n",
       "      <td>1</td>\n",
       "    </tr>\n",
       "  </tbody>\n",
       "</table>\n",
       "<p>5 rows × 33 columns</p>\n",
       "</div>"
      ],
      "text/plain": [
       "   RID  Gender    Age      Education Profession  Monthly_Income Bank_Account  \\\n",
       "0    1    male  20-25  post graduate    student               2          yes   \n",
       "1    2  Female  20-25  post graduate    student               2          yes   \n",
       "2    3    male  20-25  post graduate    student               0          yes   \n",
       "3    4    male  20-25  post graduate    student               0          yes   \n",
       "4    5    male  20-25       graduate    student               2          yes   \n",
       "\n",
       "  Which_bank Status_of_Usage  Attributes_Quality  ...  ATM_Frequency  \\\n",
       "0        SBI       1-5 years                   2  ...              3   \n",
       "1        BOB      5-10 years                   2  ...              3   \n",
       "2        SBI       1-5 years                   2  ...              2   \n",
       "3        BOB       1-5 years                   2  ...              1   \n",
       "4        SBI      5-10 years                   4  ...              2   \n",
       "\n",
       "   ATM_Location_Satisfaction  ATM_Card_Block_Problem ATM_Out_of_Cash_Problem  \\\n",
       "0                          2                       2                       1   \n",
       "1                          4                       3                       1   \n",
       "2                          3                       2                       1   \n",
       "3                          1                       3                       3   \n",
       "4                          3                       2                       2   \n",
       "\n",
       "  ATM_Non_Printing_Problem ATM_Out_of_Order_Problem  \\\n",
       "0                        1                        1   \n",
       "1                        1                        1   \n",
       "2                        1                        1   \n",
       "3                        3                        3   \n",
       "4                        2                        1   \n",
       "\n",
       "  ATM_Long_Waiting_Time_Problem ATM_Reduction_of_Balance_Problem  \\\n",
       "0                             1                                2   \n",
       "1                             1                                2   \n",
       "2                             2                                2   \n",
       "3                             3                                3   \n",
       "4                             2                                2   \n",
       "\n",
       "  Security_ATMs Intent_to_Return  \n",
       "0             4                0  \n",
       "1             3                0  \n",
       "2             2                1  \n",
       "3             2                0  \n",
       "4             3                1  \n",
       "\n",
       "[5 rows x 33 columns]"
      ]
     },
     "execution_count": 3,
     "metadata": {},
     "output_type": "execute_result"
    }
   ],
   "source": [
    "data.head()"
   ]
  },
  {
   "cell_type": "code",
   "execution_count": 10,
   "metadata": {},
   "outputs": [],
   "source": [
    "X = data.iloc[:,23:32].values\n",
    "y = data.iloc[:, 32].values"
   ]
  },
  {
   "cell_type": "code",
   "execution_count": 11,
   "metadata": {},
   "outputs": [],
   "source": [
    "from sklearn.model_selection import train_test_split"
   ]
  },
  {
   "cell_type": "code",
   "execution_count": 12,
   "metadata": {},
   "outputs": [],
   "source": [
    "X_train, X_test, y_train, y_test = train_test_split(X, y, test_size = 0.2, random_state = 1001)"
   ]
  },
  {
   "cell_type": "code",
   "execution_count": 13,
   "metadata": {},
   "outputs": [],
   "source": [
    "from sklearn.preprocessing import StandardScaler  #KNN has to be scaled"
   ]
  },
  {
   "cell_type": "code",
   "execution_count": 14,
   "metadata": {},
   "outputs": [],
   "source": [
    "scaler = StandardScaler()"
   ]
  },
  {
   "cell_type": "code",
   "execution_count": 15,
   "metadata": {},
   "outputs": [],
   "source": [
    "scaler.fit(X_train)\n",
    "X_train = scaler.transform(X_train)\n",
    "X_test = scaler.transform(X_test)"
   ]
  },
  {
   "cell_type": "code",
   "execution_count": 16,
   "metadata": {},
   "outputs": [],
   "source": [
    "from sklearn.neighbors import KNeighborsClassifier"
   ]
  },
  {
   "cell_type": "code",
   "execution_count": 17,
   "metadata": {},
   "outputs": [],
   "source": [
    "classifier = KNeighborsClassifier(n_neighbors=29)"
   ]
  },
  {
   "cell_type": "code",
   "execution_count": 18,
   "metadata": {},
   "outputs": [
    {
     "data": {
      "text/plain": [
       "KNeighborsClassifier(n_neighbors=29)"
      ]
     },
     "execution_count": 18,
     "metadata": {},
     "output_type": "execute_result"
    }
   ],
   "source": [
    "classifier.fit(X_train, y_train)  #feed the model"
   ]
  },
  {
   "cell_type": "code",
   "execution_count": 19,
   "metadata": {},
   "outputs": [],
   "source": [
    "y_predict = classifier.predict(X_test)  #use test arrays to test the model"
   ]
  },
  {
   "cell_type": "code",
   "execution_count": 20,
   "metadata": {},
   "outputs": [],
   "source": [
    "from sklearn.metrics import classification_report, confusion_matrix"
   ]
  },
  {
   "cell_type": "code",
   "execution_count": 21,
   "metadata": {},
   "outputs": [
    {
     "name": "stdout",
     "output_type": "stream",
     "text": [
      "[[10  1]\n",
      " [ 7  2]]\n"
     ]
    }
   ],
   "source": [
    "print(confusion_matrix(y_test, y_predict))  #compare actual and predicted result"
   ]
  },
  {
   "cell_type": "code",
   "execution_count": 22,
   "metadata": {},
   "outputs": [
    {
     "name": "stdout",
     "output_type": "stream",
     "text": [
      "              precision    recall  f1-score   support\n",
      "\n",
      "           0       0.59      0.91      0.71        11\n",
      "           1       0.67      0.22      0.33         9\n",
      "\n",
      "    accuracy                           0.60        20\n",
      "   macro avg       0.63      0.57      0.52        20\n",
      "weighted avg       0.62      0.60      0.54        20\n",
      "\n"
     ]
    }
   ],
   "source": [
    "print(classification_report(y_test, y_predict))"
   ]
  },
  {
   "cell_type": "markdown",
   "metadata": {},
   "source": [
    "TN = 10, FN = 7, FP = 1, TP = 2\n",
    "\n",
    "accuracy = (TP+TN)/total = (2+10)/20=0.6\n",
    "\n",
    "precision 0 = TN / (TN + FN) = 10/(10+7)=0.588235294118\n",
    "\n",
    "precision 1 = TP / (TP + FP) = 2/(2+1)=0.666666666667\n",
    "\n",
    "recall 0 = sensitivity = TN / T = TN / (TN + FP) = 10/(10+1)=0.909090909091\n",
    "\n",
    "recall 1 = sensitivity = TP / T = TP / (TP + FN) = 2/(2+7)=0.222222222222"
   ]
  },
  {
   "cell_type": "code",
   "execution_count": 23,
   "metadata": {},
   "outputs": [],
   "source": [
    "probability = classifier.predict_proba(X_test)  #the probability to be classified to a specific category"
   ]
  },
  {
   "cell_type": "code",
   "execution_count": 24,
   "metadata": {},
   "outputs": [
    {
     "data": {
      "text/plain": [
       "array([[0.62068966, 0.37931034],\n",
       "       [0.68965517, 0.31034483],\n",
       "       [0.75862069, 0.24137931],\n",
       "       [0.55172414, 0.44827586],\n",
       "       [0.5862069 , 0.4137931 ],\n",
       "       [0.72413793, 0.27586207],\n",
       "       [0.48275862, 0.51724138],\n",
       "       [0.62068966, 0.37931034],\n",
       "       [0.51724138, 0.48275862],\n",
       "       [0.5862069 , 0.4137931 ],\n",
       "       [0.4137931 , 0.5862069 ],\n",
       "       [0.72413793, 0.27586207],\n",
       "       [0.55172414, 0.44827586],\n",
       "       [0.72413793, 0.27586207],\n",
       "       [0.51724138, 0.48275862],\n",
       "       [0.51724138, 0.48275862],\n",
       "       [0.62068966, 0.37931034],\n",
       "       [0.44827586, 0.55172414],\n",
       "       [0.72413793, 0.27586207],\n",
       "       [0.5862069 , 0.4137931 ]])"
      ]
     },
     "execution_count": 24,
     "metadata": {},
     "output_type": "execute_result"
    }
   ],
   "source": [
    "probability"
   ]
  },
  {
   "cell_type": "code",
   "execution_count": 25,
   "metadata": {},
   "outputs": [],
   "source": [
    "from sklearn.metrics import roc_curve"
   ]
  },
  {
   "cell_type": "code",
   "execution_count": 27,
   "metadata": {},
   "outputs": [],
   "source": [
    "y_pred_prob = probability[:,1]  #ROC only get positive one no matter true or false positive"
   ]
  },
  {
   "cell_type": "code",
   "execution_count": 28,
   "metadata": {},
   "outputs": [
    {
     "data": {
      "text/plain": [
       "(array([0.        , 0.        , 0.        , 0.09090909, 0.09090909,\n",
       "        0.18181818, 0.54545455, 0.63636364, 1.        , 1.        ]),\n",
       " array([0.        , 0.11111111, 0.22222222, 0.22222222, 0.55555556,\n",
       "        0.66666667, 0.88888889, 0.88888889, 0.88888889, 1.        ]),\n",
       " array([1.5862069 , 0.5862069 , 0.55172414, 0.51724138, 0.48275862,\n",
       "        0.44827586, 0.37931034, 0.31034483, 0.27586207, 0.24137931]))"
      ]
     },
     "execution_count": 28,
     "metadata": {},
     "output_type": "execute_result"
    }
   ],
   "source": [
    "roc_curve(y_test, y_pred_prob)"
   ]
  },
  {
   "cell_type": "code",
   "execution_count": 29,
   "metadata": {},
   "outputs": [],
   "source": [
    "fpr, tpr, threshold = roc_curve(y_test, y_pred_prob)"
   ]
  },
  {
   "cell_type": "code",
   "execution_count": 30,
   "metadata": {},
   "outputs": [
    {
     "data": {
      "text/plain": [
       "array([1.5862069 , 0.5862069 , 0.55172414, 0.51724138, 0.48275862,\n",
       "       0.44827586, 0.37931034, 0.31034483, 0.27586207, 0.24137931])"
      ]
     },
     "execution_count": 30,
     "metadata": {},
     "output_type": "execute_result"
    }
   ],
   "source": [
    "threshold"
   ]
  },
  {
   "cell_type": "code",
   "execution_count": 31,
   "metadata": {},
   "outputs": [],
   "source": [
    "import matplotlib.pyplot as plt"
   ]
  },
  {
   "cell_type": "code",
   "execution_count": 32,
   "metadata": {},
   "outputs": [
    {
     "data": {
      "image/png": "[encoded data removed]",
      "text/plain": [
       "<Figure size 432x288 with 1 Axes>"
      ]
     },
     "metadata": {
      "needs_background": "light"
     },
     "output_type": "display_data"
    }
   ],
   "source": [
    "plt.plot(fpr, tpr)\n",
    "plt.xlabel('False positive rate')\n",
    "plt.ylabel('True positive rate')\n",
    "plt.title('The ROC curve for the classification model')\n",
    "plt.show()  #choose the better threshold, 0.48275862 is better than 0.51724138 where fpr is still 0.09090909 and tpr is 0.55555556"
   ]
  },
  {
   "cell_type": "code",
   "execution_count": 33,
   "metadata": {},
   "outputs": [],
   "source": [
    "from sklearn.metrics import roc_auc_score  #auc -> area under curve"
   ]
  },
  {
   "cell_type": "code",
   "execution_count": 34,
   "metadata": {},
   "outputs": [
    {
     "data": {
      "text/plain": [
       "0.5656565656565656"
      ]
     },
     "execution_count": 34,
     "metadata": {},
     "output_type": "execute_result"
    }
   ],
   "source": [
    "auc = roc_auc_score(y_test, y_predict)  #Roc曲线下的面积，介于0.1和1之间。Auc作为数值可以直观的评价分类器的好坏，值越大越好。\n",
    "auc"
   ]
  },
  {
   "cell_type": "code",
   "execution_count": 35,
   "metadata": {},
   "outputs": [],
   "source": [
    "x_new = np.array([[3, 1, 2, 2, 4, 5, 1, 3, 5]])  #测试这个人的分类"
   ]
  },
  {
   "cell_type": "code",
   "execution_count": 36,
   "metadata": {},
   "outputs": [
    {
     "data": {
      "text/plain": [
       "array([0], dtype=int64)"
      ]
     },
     "execution_count": 36,
     "metadata": {},
     "output_type": "execute_result"
    }
   ],
   "source": [
    "classifier.predict(x_new)"
   ]
  },
  {
   "cell_type": "code",
   "execution_count": 37,
   "metadata": {},
   "outputs": [],
   "source": [
    "x_new_3people = np.array([[3, 1, 2, 2, 4, 5, 1, 3, 5],[1, 5, 4, 5, 4, 3, 3, 4, 2],[3, 4, 5, 1, 2, 1, 3, 2, 5]])  #3 people"
   ]
  },
  {
   "cell_type": "code",
   "execution_count": 38,
   "metadata": {},
   "outputs": [
    {
     "data": {
      "text/plain": [
       "array([0, 0, 0], dtype=int64)"
      ]
     },
     "execution_count": 38,
     "metadata": {},
     "output_type": "execute_result"
    }
   ],
   "source": [
    "classifier.predict(x_new_3people)"
   ]
  },
  {
   "cell_type": "code",
   "execution_count": 39,
   "metadata": {},
   "outputs": [
    {
     "data": {
      "text/plain": [
       "array([[0.68965517, 0.31034483]])"
      ]
     },
     "execution_count": 39,
     "metadata": {},
     "output_type": "execute_result"
    }
   ],
   "source": [
    "classifier.predict_proba(x_new)"
   ]
  },
  {
   "cell_type": "code",
   "execution_count": 40,
   "metadata": {},
   "outputs": [
    {
     "data": {
      "text/plain": [
       "array([[0.68965517, 0.31034483],\n",
       "       [0.65517241, 0.34482759],\n",
       "       [0.62068966, 0.37931034]])"
      ]
     },
     "execution_count": 40,
     "metadata": {},
     "output_type": "execute_result"
    }
   ],
   "source": [
    "classifier.predict_proba(x_new_3people)"
   ]
  },
  {
   "cell_type": "code",
   "execution_count": null,
   "metadata": {},
   "outputs": [],
   "source": []
  }
 ],
 "metadata": {
  "kernelspec": {
   "display_name": "Python 3",
   "language": "python",
   "name": "python3"
  },
  "language_info": {
   "codemirror_mode": {
    "name": "ipython",
    "version": 3
   },
   "file_extension": ".py",
   "mimetype": "text/x-python",
   "name": "python",
   "nbconvert_exporter": "python",
   "pygments_lexer": "ipython3",
   "version": "3.8.5"
  }
 },
 "nbformat": 4,
 "nbformat_minor": 4
}
