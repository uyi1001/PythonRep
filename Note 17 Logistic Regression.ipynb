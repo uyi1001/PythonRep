{
 "cells": [
  {
   "cell_type": "markdown",
   "metadata": {},
   "source": [
    "Probability less than 50%, odds is (0:1),and reversed p is larger than 50%, odds is (1:∞)"
   ]
  },
  {
   "cell_type": "code",
   "execution_count": 1,
   "metadata": {},
   "outputs": [],
   "source": [
    "import numpy as np\n",
    "import pandas as pd"
   ]
  },
  {
   "cell_type": "code",
   "execution_count": 2,
   "metadata": {},
   "outputs": [],
   "source": [
    "p = 0.49  #probability of winning\n",
    "win_odds = p/(1-p)"
   ]
  },
  {
   "cell_type": "code",
   "execution_count": 3,
   "metadata": {},
   "outputs": [
    {
     "data": {
      "text/plain": [
       "0.9607843137254901"
      ]
     },
     "execution_count": 3,
     "metadata": {},
     "output_type": "execute_result"
    }
   ],
   "source": [
    "win_odds"
   ]
  },
  {
   "cell_type": "code",
   "execution_count": 4,
   "metadata": {},
   "outputs": [
    {
     "name": "stdout",
     "output_type": "stream",
     "text": [
      "Odds of winning will be 0.9455252918287937 and odds of losing will be 1.0576131687242798\n",
      "Odds of winning will be 0.9305019305019304 and odds of losing will be 1.074688796680498\n",
      "Odds of winning will be 0.9157088122605364 and odds of losing will be 1.092050209205021\n",
      "Odds of winning will be 0.9011406844106463 and odds of losing will be 1.109704641350211\n",
      "Odds of winning will be 0.8867924528301886 and odds of losing will be 1.1276595744680853\n",
      "Odds of winning will be 0.8726591760299625 and odds of losing will be 1.145922746781116\n",
      "Odds of winning will be 0.8587360594795538 and odds of losing will be 1.1645021645021647\n",
      "Odds of winning will be 0.8450184501845017 and odds of losing will be 1.183406113537118\n",
      "Odds of winning will be 0.8315018315018313 and odds of losing will be 1.2026431718061676\n",
      "Odds of winning will be 0.818181818181818 and odds of losing will be 1.2222222222222225\n",
      "Odds of winning will be 0.8050541516245486 and odds of losing will be 1.2421524663677133\n",
      "Odds of winning will be 0.7921146953405016 and odds of losing will be 1.2624434389140273\n",
      "Odds of winning will be 0.779359430604982 and odds of losing will be 1.2831050228310505\n",
      "Odds of winning will be 0.7667844522968196 and odds of losing will be 1.3041474654377883\n",
      "Odds of winning will be 0.7543859649122805 and odds of losing will be 1.3255813953488376\n",
      "Odds of winning will be 0.7421602787456444 and odds of losing will be 1.3474178403755872\n",
      "Odds of winning will be 0.7301038062283735 and odds of losing will be 1.3696682464454981\n",
      "Odds of winning will be 0.7182130584192438 and odds of losing will be 1.392344497607656\n",
      "Odds of winning will be 0.706484641638225 and odds of losing will be 1.4154589371980681\n",
      "Odds of winning will be 0.694915254237288 and odds of losing will be 1.4390243902439028\n",
      "Odds of winning will be 0.6835016835016833 and odds of losing will be 1.4630541871921188\n",
      "Odds of winning will be 0.6722408026755851 and odds of losing will be 1.4875621890547268\n",
      "Odds of winning will be 0.6611295681063121 and odds of losing will be 1.5125628140703524\n",
      "Odds of winning will be 0.6501650165016499 and odds of losing will be 1.5380710659898482\n",
      "Odds of winning will be 0.6393442622950817 and odds of losing will be 1.5641025641025648\n",
      "Odds of winning will be 0.6286644951140062 and odds of losing will be 1.5906735751295344\n",
      "Odds of winning will be 0.6181229773462781 and odds of losing will be 1.6178010471204196\n",
      "Odds of winning will be 0.6077170418006428 and odds of losing will be 1.6455026455026462\n",
      "Odds of winning will be 0.5974440894568688 and odds of losing will be 1.673796791443851\n",
      "Odds of winning will be 0.587301587301587 and odds of losing will be 1.7027027027027035\n",
      "Odds of winning will be 0.5772870662460565 and odds of losing will be 1.7322404371584708\n",
      "Odds of winning will be 0.5673981191222568 and odds of losing will be 1.7624309392265203\n",
      "Odds of winning will be 0.5576323987538938 and odds of losing will be 1.793296089385476\n",
      "Odds of winning will be 0.5479876160990709 and odds of losing will be 1.824858757062148\n",
      "Odds of winning will be 0.5384615384615381 and odds of losing will be 1.8571428571428583\n",
      "Odds of winning will be 0.5290519877675838 and odds of losing will be 1.8901734104046255\n",
      "Odds of winning will be 0.5197568389057747 and odds of losing will be 1.9239766081871357\n",
      "Odds of winning will be 0.5105740181268879 and odds of losing will be 1.958579881656806\n",
      "Odds of winning will be 0.5015015015015012 and odds of losing will be 1.9940119760479056\n",
      "Odds of winning will be 0.49253731343283547 and odds of losing will be 2.0303030303030316\n",
      "Odds of winning will be 0.4836795252225516 and odds of losing will be 2.0674846625766885\n",
      "Odds of winning will be 0.4749262536873153 and odds of losing will be 2.1055900621118027\n",
      "Odds of winning will be 0.46627565982404656 and odds of losing will be 2.144654088050316\n",
      "Odds of winning will be 0.4577259475218655 and odds of losing will be 2.18471337579618\n",
      "Odds of winning will be 0.44927536231884024 and odds of losing will be 2.225806451612905\n",
      "Odds of winning will be 0.44092219020172874 and odds of losing will be 2.267973856209152\n",
      "Odds of winning will be 0.43266475644699104 and odds of losing will be 2.311258278145697\n",
      "Odds of winning will be 0.42450142450142414 and odds of losing will be 2.355704697986579\n",
      "Odds of winning will be 0.4164305949008495 and odds of losing will be 2.401360544217689\n",
      "Odds of winning will be 0.40845070422535174 and odds of losing will be 2.4482758620689675\n",
      "Odds of winning will be 0.4005602240896355 and odds of losing will be 2.496503496503499\n",
      "Odds of winning will be 0.39275766016713054 and odds of losing will be 2.5460992907801443\n",
      "Odds of winning will be 0.385041551246537 and odds of losing will be 2.597122302158276\n",
      "Odds of winning will be 0.3774104683195588 and odds of losing will be 2.649635036496353\n",
      "Odds of winning will be 0.36986301369862973 and odds of losing will be 2.7037037037037064\n",
      "Odds of winning will be 0.36239782016348737 and odds of losing will be 2.7593984962406046\n",
      "Odds of winning will be 0.35501355013550095 and odds of losing will be 2.8167938931297742\n",
      "Odds of winning will be 0.3477088948787058 and odds of losing will be 2.8759689922480653\n",
      "Odds of winning will be 0.34048257372654117 and odds of losing will be 2.9370078740157513\n",
      "Odds of winning will be 0.3333333333333329 and odds of losing will be 3.0000000000000036\n",
      "Odds of winning will be 0.3262599469496017 and odds of losing will be 3.065040650406508\n",
      "Odds of winning will be 0.31926121372031624 and odds of losing will be 3.1322314049586817\n",
      "Odds of winning will be 0.31233595800524894 and odds of losing will be 3.2016806722689117\n",
      "Odds of winning will be 0.3054830287206262 and odds of losing will be 3.273504273504278\n",
      "Odds of winning will be 0.2987012987012983 and odds of losing will be 3.3478260869565264\n",
      "Odds of winning will be 0.29198966408268695 and odds of losing will be 3.4247787610619516\n",
      "Odds of winning will be 0.2853470437017991 and odds of losing will be 3.5045045045045096\n",
      "Odds of winning will be 0.2787723785166236 and odds of losing will be 3.5871559633027577\n",
      "Odds of winning will be 0.2722646310432566 and odds of losing will be 3.6728971962616876\n",
      "Odds of winning will be 0.26582278481012617 and odds of losing will be 3.7619047619047676\n",
      "Odds of winning will be 0.25944584382871494 and odds of losing will be 3.8543689320388412\n",
      "Odds of winning will be 0.2531328320802001 and odds of losing will be 3.950495049504957\n",
      "Odds of winning will be 0.24688279301745594 and odds of losing will be 4.050505050505057\n",
      "Odds of winning will be 0.24069478908188544 and odds of losing will be 4.154639175257739\n",
      "Odds of winning will be 0.23456790123456747 and odds of losing will be 4.26315789473685\n",
      "Odds of winning will be 0.2285012285012281 and odds of losing will be 4.376344086021513\n",
      "Odds of winning will be 0.22249388753056193 and odds of losing will be 4.494505494505503\n",
      "Odds of winning will be 0.2165450121654497 and odds of losing will be 4.617977528089897\n",
      "Odds of winning will be 0.21065375302663397 and odds of losing will be 4.747126436781619\n",
      "Odds of winning will be 0.2048192771084333 and odds of losing will be 4.882352941176481\n",
      "Odds of winning will be 0.1990407673860907 and odds of losing will be 5.02409638554218\n",
      "Odds of winning will be 0.19331742243436711 and odds of losing will be 5.172839506172851\n",
      "Odds of winning will be 0.1876484560570067 and odds of losing will be 5.329113924050645\n",
      "Odds of winning will be 0.18203309692671352 and odds of losing will be 5.493506493506507\n",
      "Odds of winning will be 0.17647058823529368 and odds of losing will be 5.66666666666668\n",
      "Odds of winning will be 0.17096018735362956 and odds of losing will be 5.849315068493166\n",
      "Odds of winning will be 0.16550116550116506 and odds of losing will be 6.042253521126776\n",
      "Odds of winning will be 0.16009280742459353 and odds of losing will be 6.24637681159422\n",
      "Odds of winning will be 0.1547344110854499 and odds of losing will be 6.462686567164197\n",
      "Odds of winning will be 0.1494252873563214 and odds of losing will be 6.692307692307712\n",
      "Odds of winning will be 0.14416475972540002 and odds of losing will be 6.936507936507957\n",
      "Odds of winning will be 0.13895216400911117 and odds of losing will be 7.196721311475432\n",
      "Odds of winning will be 0.13378684807256191 and odds of losing will be 7.474576271186465\n",
      "Odds of winning will be 0.12866817155756163 and odds of losing will be 7.77192982456143\n",
      "Odds of winning will be 0.1235955056179771 and odds of losing will be 8.09090909090912\n",
      "Odds of winning will be 0.11856823266219195 and odds of losing will be 8.433962264150974\n",
      "Odds of winning will be 0.11358574610244945 and odds of losing will be 8.803921568627485\n",
      "Odds of winning will be 0.10864745011086431 and odds of losing will be 9.204081632653098\n",
      "Odds of winning will be 0.10375275938189801 and odds of losing will be 9.638297872340466\n",
      "Odds of winning will be 0.09890109890109847 and odds of losing will be 10.111111111111157\n"
     ]
    }
   ],
   "source": [
    "p = 0.49\n",
    "for i in  range(100):\n",
    "    p = p - 0.004\n",
    "    win_odds = p/(1-p)\n",
    "    q = 1-p\n",
    "    lose_odds = q/(1-q)\n",
    "    print(f'Odds of winning will be {win_odds} and odds of losing will be {lose_odds}')"
   ]
  },
  {
   "cell_type": "code",
   "execution_count": 5,
   "metadata": {},
   "outputs": [
    {
     "name": "stdout",
     "output_type": "stream",
     "text": [
      "Logit of winning will be -0.05601464155467137 and logit of losing will be 0.056014641554671306\n",
      "Logit of winning will be -0.07203112820888284 and logit of losing will be 0.07203112820888292\n",
      "Logit of winning will be -0.0880568553911828 and logit of losing will be 0.08805685539118287\n",
      "Logit of winning will be -0.10409389104263345 and logit of losing will be 0.10409389104263336\n",
      "Logit of winning will be -0.12014431184206334 and logit of losing will be 0.12014431184206341\n",
      "Logit of winning will be -0.13621020483454907 and logit of losing will be 0.13621020483454901\n",
      "Logit of winning will be -0.1522936690800457 and logit of losing will be 0.15229366908004574\n",
      "Logit of winning will be -0.16839681732546138 and logit of losing will be 0.1683968173254614\n",
      "Logit of winning will be -0.18452177770355727 and logit of losing will be 0.18452177770355727\n",
      "Logit of winning will be -0.20067069546215138 and logit of losing will be 0.2006706954621514\n",
      "Logit of winning will be -0.21684573472721988 and logit of losing will be 0.21684573472721994\n",
      "Logit of winning will be -0.23304908030361304 and logit of losing will be 0.23304908030361296\n",
      "Logit of winning will be -0.24928293951724517 and logit of losing will be 0.2492829395172452\n",
      "Logit of winning will be -0.26554954410277837 and logit of losing will be 0.26554954410277826\n",
      "Logit of winning will be -0.281851152140988 and logit of losing will be 0.281851152140988\n",
      "Logit of winning will be -0.2981900500501963 and logit of losing will be 0.2981900500501963\n",
      "Logit of winning will be -0.314568554636366 and logit of losing will be 0.314568554636366\n",
      "Logit of winning will be -0.33098901520668184 and logit of losing will be 0.3309890152066819\n",
      "Logit of winning will be -0.3474538157516986 and logit of losing will be 0.3474538157516986\n",
      "Logit of winning will be -0.3639653772014119 and logit of losing will be 0.3639653772014119\n",
      "Logit of winning will be -0.38052615976091264 and logit of losing will be 0.38052615976091264\n",
      "Logit of winning will be -0.397138665331611 and logit of losing will be 0.39713866533161096\n",
      "Logit of winning will be -0.4138054400243837 and logit of losing will be 0.4138054400243838\n",
      "Logit of winning will be -0.430529076771381 and logit of losing will be 0.43052907677138097\n",
      "Logit of winning will be -0.4473122180436653 and logit of losing will be 0.4473122180436652\n",
      "Logit of winning will be -0.46415755868231207 and logit of losing will be 0.46415755868231207\n",
      "Logit of winning will be -0.481067848851116 and logit of losing will be 0.4810678488511161\n",
      "Logit of winning will be -0.49804589711959224 and logit of losing will be 0.4980458971195922\n",
      "Logit of winning will be -0.515094573685567 and logit of losing will be 0.515094573685567\n",
      "Logit of winning will be -0.5322168137473088 and logit of losing will be 0.5322168137473087\n",
      "Logit of winning will be -0.5494156210358602 and logit of losing will be 0.5494156210358602\n",
      "Logit of winning will be -0.5666940715190193 and logit of losing will be 0.5666940715190194\n",
      "Logit of winning will be -0.5840553172892613 and logit of losing will be 0.5840553172892614\n",
      "Logit of winning will be -0.601502590648828 and logit of losing will be 0.6015025906488279\n",
      "Logit of winning will be -0.6190392084062241 and logit of losing will be 0.6190392084062241\n",
      "Logit of winning will be -0.636668576399475 and logit of losing will be 0.636668576399475\n",
      "Logit of winning will be -0.6543941942627127 and logit of losing will be 0.6543941942627126\n",
      "Logit of winning will be -0.6722196604539902 and logit of losing will be 0.6722196604539901\n",
      "Logit of winning will be -0.6901486775636894 and logit of losing will be 0.6901486775636895\n",
      "Logit of winning will be -0.7081850579244865 and logit of losing will be 0.7081850579244865\n",
      "Logit of winning will be -0.7263327295456001 and logit of losing will be 0.7263327295456\n",
      "Logit of winning will be -0.744595742395988 and logit of losing will be 0.7445957423959879\n",
      "Logit of winning will be -0.7629782750632861 and logit of losing will be 0.762978275063286\n",
      "Logit of winning will be -0.7814846418176327 and logit of losing will be 0.7814846418176326\n",
      "Logit of winning will be -0.8001193001121139 and logit of losing will be 0.8001193001121139\n",
      "Logit of winning will be -0.8188868585544246 and logit of losing will be 0.8188868585544244\n",
      "Logit of winning will be -0.8377920853875037 and logit of losing will be 0.8377920853875036\n",
      "Logit of winning will be -0.8568399175204076 and logit of losing will be 0.8568399175204074\n",
      "Logit of winning will be -0.8760354701545613 and logit of losing will be 0.8760354701545613\n",
      "Logit of winning will be -0.8953840470548423 and logit of losing will be 0.8953840470548422\n",
      "Logit of winning will be -0.9148911515197328 and logit of losing will be 0.9148911515197328\n",
      "Logit of winning will be -0.9345624981101116 and logit of losing will be 0.9345624981101116\n",
      "Logit of winning will be -0.9544040252021903 and logit of losing will be 0.9544040252021901\n",
      "Logit of winning will be -0.9744219084367269 and logit of losing will be 0.9744219084367268\n",
      "Logit of winning will be -0.9946225751440632 and logit of losing will be 0.994622575144063\n",
      "Logit of winning will be -1.0150127198328176 and logit of losing will be 1.0150127198328176\n",
      "Logit of winning will be -1.0355993208393768 and logit of losing will be 1.0355993208393768\n",
      "Logit of winning will be -1.0563896582457641 and logit of losing will be 1.0563896582457641\n",
      "Logit of winning will be -1.0773913331852254 and logit of losing will be 1.0773913331852254\n",
      "Logit of winning will be -1.098612288668111 and logit of losing will be 1.098612288668111\n",
      "Logit of winning will be -1.1200608320755945 and logit of losing will be 1.1200608320755945\n",
      "Logit of winning will be -1.1417456594856865 and logit of losing will be 1.1417456594856865\n",
      "Logit of winning will be -1.163675882015173 and logit of losing will be 1.163675882015173\n",
      "Logit of winning will be -1.1858610543828911 and logit of losing will be 1.1858610543828911\n",
      "Logit of winning will be -1.2083112059245356 and logit of losing will be 1.2083112059245356\n",
      "Logit of winning will be -1.2310368743174425 and logit of losing will be 1.2310368743174427\n",
      "Logit of winning will be -1.2540491423061135 and logit of losing will be 1.2540491423061135\n",
      "Logit of winning will be -1.2773596777562235 and logit of losing will be 1.2773596777562235\n",
      "Logit of winning will be -1.3009807774073565 and logit of losing will be 1.3009807774073565\n",
      "Logit of winning will be -1.3249254147436 and logit of losing will be 1.3249254147436\n",
      "Logit of winning will be -1.3492072924575562 and logit of losing will be 1.3492072924575562\n",
      "Logit of winning will be -1.3738409000486056 and logit of losing will be 1.3738409000486056\n",
      "Logit of winning will be -1.3988415771719809 and logit of losing will be 1.3988415771719809\n",
      "Logit of winning will be -1.424225583443302 and logit of losing will be 1.424225583443302\n",
      "Logit of winning will be -1.4500101755060002 and logit of losing will be 1.450010175506\n",
      "Logit of winning will be -1.476213692289341 and logit of losing will be 1.4762136922893407\n",
      "Logit of winning will be -1.5028556495259535 and logit of losing will be 1.5028556495259537\n",
      "Logit of winning will be -1.5299568447640968 and logit of losing will be 1.5299568447640968\n",
      "Logit of winning will be -1.557539474306451 and logit of losing will be 1.557539474306451\n",
      "Logit of winning will be -1.5856272637403839 and logit of losing will be 1.5856272637403839\n",
      "Logit of winning will be -1.6142456140022057 and logit of losing will be 1.6142456140022057\n",
      "Logit of winning will be -1.6434217652497012 and logit of losing will be 1.6434217652497012\n",
      "Logit of winning will be -1.6731849812153623 and logit of losing will be 1.6731849812153623\n",
      "Logit of winning will be -1.7035667571925965 and logit of losing will be 1.7035667571925965\n",
      "Logit of winning will be -1.7346010553881088 and logit of losing will be 1.7346010553881088\n",
      "Logit of winning will be -1.7663245720802359 and logit of losing will be 1.766324572080236\n",
      "Logit of winning will be -1.7987770418867042 and logit of losing will be 1.7987770418867042\n",
      "Logit of winning will be -1.832001585506491 and logit of losing will be 1.832001585506491\n",
      "Logit of winning will be -1.8660451086115266 and logit of losing will be 1.8660451086115266\n",
      "Logit of winning will be -1.9009587611930499 and logit of losing will be 1.9009587611930499\n",
      "Logit of winning will be -1.9367984687040605 and logit of losing will be 1.9367984687040605\n",
      "Logit of winning will be -1.9736255489018633 and logit of losing will be 1.9736255489018633\n",
      "Logit of winning will be -2.01150743154113 and logit of losing will be 2.01150743154113\n",
      "Logit of winning will be -2.050518502210589 and logit of losing will be 2.050518502210589\n",
      "Logit of winning will be -2.090741096933773 and logit of losing will be 2.090741096933773\n",
      "Logit of winning will be -2.132266681061451 and logit of losing will be 2.132266681061451\n",
      "Logit of winning will be -2.1751972550179324 and logit of losing will be 2.1751972550179324\n",
      "Logit of winning will be -2.2196470413920557 and logit of losing will be 2.2196470413920557\n",
      "Logit of winning will be -2.26574452377298 and logit of losing will be 2.26574452377298\n",
      "Logit of winning will be -2.313634929180635 and logit of losing will be 2.313634929180635\n"
     ]
    }
   ],
   "source": [
    "p = 0.49\n",
    "for i in  range(100):\n",
    "    p = p - 0.004\n",
    "    win_odds = p/(1-p)\n",
    "    win_logit = np.log(win_odds)\n",
    "    q = 1-p\n",
    "    lose_odds = q/(1-q)\n",
    "    lose_logit = np.log(lose_odds)\n",
    "    print(f'Logit of winning will be {win_logit} and logit of losing will be {lose_logit}')"
   ]
  },
  {
   "cell_type": "code",
   "execution_count": 6,
   "metadata": {},
   "outputs": [],
   "source": [
    "data = pd.read_csv('Survey Form Responses-Final.csv')"
   ]
  },
  {
   "cell_type": "code",
   "execution_count": 7,
   "metadata": {},
   "outputs": [
    {
     "data": {
      "text/html": [
       "<div>\n",
       "<style scoped>\n",
       "    .dataframe tbody tr th:only-of-type {\n",
       "        vertical-align: middle;\n",
       "    }\n",
       "\n",
       "    .dataframe tbody tr th {\n",
       "        vertical-align: top;\n",
       "    }\n",
       "\n",
       "    .dataframe thead th {\n",
       "        text-align: right;\n",
       "    }\n",
       "</style>\n",
       "<table border=\"1\" class=\"dataframe\">\n",
       "  <thead>\n",
       "    <tr style=\"text-align: right;\">\n",
       "      <th></th>\n",
       "      <th>RID</th>\n",
       "      <th>Gender</th>\n",
       "      <th>Age</th>\n",
       "      <th>Education</th>\n",
       "      <th>Profession</th>\n",
       "      <th>Monthly_Income</th>\n",
       "      <th>Bank_Account</th>\n",
       "      <th>Which_bank</th>\n",
       "      <th>Status_of_Usage</th>\n",
       "      <th>Attributes_Quality</th>\n",
       "      <th>...</th>\n",
       "      <th>ATM_Frequency</th>\n",
       "      <th>ATM_Location_Satisfaction</th>\n",
       "      <th>ATM_Card_Block_Problem</th>\n",
       "      <th>ATM_Out_of_Cash_Problem</th>\n",
       "      <th>ATM_Non_Printing_Problem</th>\n",
       "      <th>ATM_Out_of_Order_Problem</th>\n",
       "      <th>ATM_Long_Waiting_Time_Problem</th>\n",
       "      <th>ATM_Reduction_of_Balance_Problem</th>\n",
       "      <th>Security_ATMs</th>\n",
       "      <th>Intent_to_Return</th>\n",
       "    </tr>\n",
       "  </thead>\n",
       "  <tbody>\n",
       "    <tr>\n",
       "      <th>0</th>\n",
       "      <td>1</td>\n",
       "      <td>male</td>\n",
       "      <td>20-25</td>\n",
       "      <td>post graduate</td>\n",
       "      <td>student</td>\n",
       "      <td>2</td>\n",
       "      <td>yes</td>\n",
       "      <td>SBI</td>\n",
       "      <td>1-5 years</td>\n",
       "      <td>2</td>\n",
       "      <td>...</td>\n",
       "      <td>3</td>\n",
       "      <td>2</td>\n",
       "      <td>2</td>\n",
       "      <td>1</td>\n",
       "      <td>1</td>\n",
       "      <td>1</td>\n",
       "      <td>1</td>\n",
       "      <td>2</td>\n",
       "      <td>4</td>\n",
       "      <td>0</td>\n",
       "    </tr>\n",
       "    <tr>\n",
       "      <th>1</th>\n",
       "      <td>2</td>\n",
       "      <td>Female</td>\n",
       "      <td>20-25</td>\n",
       "      <td>post graduate</td>\n",
       "      <td>student</td>\n",
       "      <td>2</td>\n",
       "      <td>yes</td>\n",
       "      <td>BOB</td>\n",
       "      <td>5-10 years</td>\n",
       "      <td>2</td>\n",
       "      <td>...</td>\n",
       "      <td>3</td>\n",
       "      <td>4</td>\n",
       "      <td>3</td>\n",
       "      <td>1</td>\n",
       "      <td>1</td>\n",
       "      <td>1</td>\n",
       "      <td>1</td>\n",
       "      <td>2</td>\n",
       "      <td>3</td>\n",
       "      <td>0</td>\n",
       "    </tr>\n",
       "    <tr>\n",
       "      <th>2</th>\n",
       "      <td>3</td>\n",
       "      <td>male</td>\n",
       "      <td>20-25</td>\n",
       "      <td>post graduate</td>\n",
       "      <td>student</td>\n",
       "      <td>0</td>\n",
       "      <td>yes</td>\n",
       "      <td>SBI</td>\n",
       "      <td>1-5 years</td>\n",
       "      <td>2</td>\n",
       "      <td>...</td>\n",
       "      <td>2</td>\n",
       "      <td>3</td>\n",
       "      <td>2</td>\n",
       "      <td>1</td>\n",
       "      <td>1</td>\n",
       "      <td>1</td>\n",
       "      <td>2</td>\n",
       "      <td>2</td>\n",
       "      <td>2</td>\n",
       "      <td>1</td>\n",
       "    </tr>\n",
       "    <tr>\n",
       "      <th>3</th>\n",
       "      <td>4</td>\n",
       "      <td>male</td>\n",
       "      <td>20-25</td>\n",
       "      <td>post graduate</td>\n",
       "      <td>student</td>\n",
       "      <td>0</td>\n",
       "      <td>yes</td>\n",
       "      <td>BOB</td>\n",
       "      <td>1-5 years</td>\n",
       "      <td>2</td>\n",
       "      <td>...</td>\n",
       "      <td>1</td>\n",
       "      <td>1</td>\n",
       "      <td>3</td>\n",
       "      <td>3</td>\n",
       "      <td>3</td>\n",
       "      <td>3</td>\n",
       "      <td>3</td>\n",
       "      <td>3</td>\n",
       "      <td>2</td>\n",
       "      <td>0</td>\n",
       "    </tr>\n",
       "    <tr>\n",
       "      <th>4</th>\n",
       "      <td>5</td>\n",
       "      <td>male</td>\n",
       "      <td>20-25</td>\n",
       "      <td>graduate</td>\n",
       "      <td>student</td>\n",
       "      <td>2</td>\n",
       "      <td>yes</td>\n",
       "      <td>SBI</td>\n",
       "      <td>5-10 years</td>\n",
       "      <td>4</td>\n",
       "      <td>...</td>\n",
       "      <td>2</td>\n",
       "      <td>3</td>\n",
       "      <td>2</td>\n",
       "      <td>2</td>\n",
       "      <td>2</td>\n",
       "      <td>1</td>\n",
       "      <td>2</td>\n",
       "      <td>2</td>\n",
       "      <td>3</td>\n",
       "      <td>1</td>\n",
       "    </tr>\n",
       "  </tbody>\n",
       "</table>\n",
       "<p>5 rows × 33 columns</p>\n",
       "</div>"
      ],
      "text/plain": [
       "   RID  Gender    Age      Education Profession  Monthly_Income Bank_Account  \\\n",
       "0    1    male  20-25  post graduate    student               2          yes   \n",
       "1    2  Female  20-25  post graduate    student               2          yes   \n",
       "2    3    male  20-25  post graduate    student               0          yes   \n",
       "3    4    male  20-25  post graduate    student               0          yes   \n",
       "4    5    male  20-25       graduate    student               2          yes   \n",
       "\n",
       "  Which_bank Status_of_Usage  Attributes_Quality  ...  ATM_Frequency  \\\n",
       "0        SBI       1-5 years                   2  ...              3   \n",
       "1        BOB      5-10 years                   2  ...              3   \n",
       "2        SBI       1-5 years                   2  ...              2   \n",
       "3        BOB       1-5 years                   2  ...              1   \n",
       "4        SBI      5-10 years                   4  ...              2   \n",
       "\n",
       "   ATM_Location_Satisfaction  ATM_Card_Block_Problem ATM_Out_of_Cash_Problem  \\\n",
       "0                          2                       2                       1   \n",
       "1                          4                       3                       1   \n",
       "2                          3                       2                       1   \n",
       "3                          1                       3                       3   \n",
       "4                          3                       2                       2   \n",
       "\n",
       "  ATM_Non_Printing_Problem ATM_Out_of_Order_Problem  \\\n",
       "0                        1                        1   \n",
       "1                        1                        1   \n",
       "2                        1                        1   \n",
       "3                        3                        3   \n",
       "4                        2                        1   \n",
       "\n",
       "  ATM_Long_Waiting_Time_Problem ATM_Reduction_of_Balance_Problem  \\\n",
       "0                             1                                2   \n",
       "1                             1                                2   \n",
       "2                             2                                2   \n",
       "3                             3                                3   \n",
       "4                             2                                2   \n",
       "\n",
       "  Security_ATMs Intent_to_Return  \n",
       "0             4                0  \n",
       "1             3                0  \n",
       "2             2                1  \n",
       "3             2                0  \n",
       "4             3                1  \n",
       "\n",
       "[5 rows x 33 columns]"
      ]
     },
     "execution_count": 7,
     "metadata": {},
     "output_type": "execute_result"
    }
   ],
   "source": [
    "data.head()"
   ]
  },
  {
   "cell_type": "code",
   "execution_count": 8,
   "metadata": {},
   "outputs": [
    {
     "name": "stdout",
     "output_type": "stream",
     "text": [
      "<class 'pandas.core.frame.DataFrame'>\n",
      "RangeIndex: 100 entries, 0 to 99\n",
      "Data columns (total 33 columns):\n",
      " #   Column                            Non-Null Count  Dtype \n",
      "---  ------                            --------------  ----- \n",
      " 0   RID                               100 non-null    int64 \n",
      " 1   Gender                            100 non-null    object\n",
      " 2   Age                               100 non-null    object\n",
      " 3   Education                         100 non-null    object\n",
      " 4   Profession                        100 non-null    object\n",
      " 5   Monthly_Income                    100 non-null    int64 \n",
      " 6   Bank_Account                      100 non-null    object\n",
      " 7   Which_bank                        92 non-null     object\n",
      " 8   Status_of_Usage                   100 non-null    object\n",
      " 9   Attributes_Quality                100 non-null    int64 \n",
      " 10  Favorite_Attributes_Technology    100 non-null    int64 \n",
      " 11  Favorite_Attributes_Trust         100 non-null    int64 \n",
      " 12  Favorite_Attributes_Location      100 non-null    int64 \n",
      " 13  Factor_New_Techniques_1           100 non-null    object\n",
      " 14  Factor_New_Techniques_2           59 non-null     object\n",
      " 15  Factor_New_Techniques_3           30 non-null     object\n",
      " 16  Factor_New_Techniques_4           16 non-null     object\n",
      " 17  Currently_Banking_1               100 non-null    object\n",
      " 18  Currently_Banking_2               69 non-null     object\n",
      " 19  Currently_Banking_3               40 non-null     object\n",
      " 20  Currently_Banking_4               29 non-null     object\n",
      " 21  Currently_Banking_5               13 non-null     object\n",
      " 22  Currently_Banking_6               8 non-null      object\n",
      " 23  ATM_Frequency                     100 non-null    int64 \n",
      " 24  ATM_Location_Satisfaction         100 non-null    int64 \n",
      " 25  ATM_Card_Block_Problem            100 non-null    int64 \n",
      " 26  ATM_Out_of_Cash_Problem           100 non-null    int64 \n",
      " 27  ATM_Non_Printing_Problem          100 non-null    int64 \n",
      " 28  ATM_Out_of_Order_Problem          100 non-null    int64 \n",
      " 29  ATM_Long_Waiting_Time_Problem     100 non-null    int64 \n",
      " 30  ATM_Reduction_of_Balance_Problem  100 non-null    int64 \n",
      " 31  Security_ATMs                     100 non-null    int64 \n",
      " 32  Intent_to_Return                  100 non-null    int64 \n",
      "dtypes: int64(16), object(17)\n",
      "memory usage: 25.9+ KB\n"
     ]
    }
   ],
   "source": [
    "data.info()"
   ]
  },
  {
   "cell_type": "code",
   "execution_count": 9,
   "metadata": {},
   "outputs": [],
   "source": [
    "features = ['ATM_Location_Satisfaction','ATM_Out_of_Cash_Problem','Security_ATMs']\n",
    "target = 'Intent_to_Return'\n",
    "X = data.loc[:,features].values\n",
    "y = data.loc[:,target].values"
   ]
  },
  {
   "cell_type": "code",
   "execution_count": 10,
   "metadata": {},
   "outputs": [],
   "source": [
    "from sklearn.model_selection import train_test_split"
   ]
  },
  {
   "cell_type": "code",
   "execution_count": 11,
   "metadata": {},
   "outputs": [],
   "source": [
    "X_train, X_test, y_train, y_test = train_test_split(X, y, test_size = 0.25, random_state = 0)"
   ]
  },
  {
   "cell_type": "code",
   "execution_count": 12,
   "metadata": {},
   "outputs": [],
   "source": [
    "from sklearn.linear_model import LogisticRegression"
   ]
  },
  {
   "cell_type": "code",
   "execution_count": 13,
   "metadata": {},
   "outputs": [],
   "source": [
    "log_reg = LogisticRegression()"
   ]
  },
  {
   "cell_type": "code",
   "execution_count": 14,
   "metadata": {},
   "outputs": [
    {
     "data": {
      "text/plain": [
       "LogisticRegression()"
      ]
     },
     "execution_count": 14,
     "metadata": {},
     "output_type": "execute_result"
    }
   ],
   "source": [
    "log_reg.fit(X_train, y_train)"
   ]
  },
  {
   "cell_type": "code",
   "execution_count": 15,
   "metadata": {},
   "outputs": [],
   "source": [
    "y_pred = log_reg.predict(X_test)"
   ]
  },
  {
   "cell_type": "code",
   "execution_count": 16,
   "metadata": {},
   "outputs": [
    {
     "data": {
      "text/plain": [
       "array([0, 0, 0, 0, 0, 0, 1, 0, 0, 0, 1, 1, 1, 0, 0, 1, 0, 1, 1, 0, 1, 0,\n",
       "       0, 1, 1], dtype=int64)"
      ]
     },
     "execution_count": 16,
     "metadata": {},
     "output_type": "execute_result"
    }
   ],
   "source": [
    "y_pred"
   ]
  },
  {
   "cell_type": "code",
   "execution_count": 17,
   "metadata": {},
   "outputs": [],
   "source": [
    "from sklearn.metrics import confusion_matrix"
   ]
  },
  {
   "cell_type": "code",
   "execution_count": 18,
   "metadata": {},
   "outputs": [],
   "source": [
    "cm = confusion_matrix(y_test, y_pred)"
   ]
  },
  {
   "cell_type": "code",
   "execution_count": 19,
   "metadata": {},
   "outputs": [
    {
     "data": {
      "text/plain": [
       "array([[9, 5],\n",
       "       [6, 5]], dtype=int64)"
      ]
     },
     "execution_count": 19,
     "metadata": {},
     "output_type": "execute_result"
    }
   ],
   "source": [
    "cm"
   ]
  },
  {
   "cell_type": "code",
   "execution_count": 20,
   "metadata": {},
   "outputs": [],
   "source": [
    "import matplotlib.pyplot as plt"
   ]
  },
  {
   "cell_type": "code",
   "execution_count": 21,
   "metadata": {},
   "outputs": [
    {
     "data": {
      "image/png": "[encoded data removed]",
      "text/plain": [
       "<Figure size 432x288 with 1 Axes>"
      ]
     },
     "metadata": {
      "needs_background": "light"
     },
     "output_type": "display_data"
    }
   ],
   "source": [
    "plt.imshow(cm)\n",
    "plt.xticks([0,1],['Predicted class 0', 'Predicted class 1'])\n",
    "plt.yticks([0,1],['True class 0', 'True class 1'])\n",
    "plt.show()"
   ]
  },
  {
   "cell_type": "code",
   "execution_count": 22,
   "metadata": {},
   "outputs": [
    {
     "data": {
      "image/png": "[encoded data removed]",
      "text/plain": [
       "<Figure size 432x288 with 1 Axes>"
      ]
     },
     "metadata": {
      "needs_background": "light"
     },
     "output_type": "display_data"
    }
   ],
   "source": [
    "plt.imshow(cm)\n",
    "plt.xticks([0,1],['Predicted class 0', 'Predicted class 1'])\n",
    "plt.yticks([0,1],['True class 0', 'True class 1'])\n",
    "plt.text(0,0, cm[0,0], ha = 'center', va = 'center', color = 'white', fontsize = 16, weight='bold')\n",
    "plt.text(1,0, cm[0,1], ha = 'center', va = 'center', color = 'white', fontsize = 16, weight='bold')\n",
    "plt.text(0,1, cm[1,0], ha = 'center', va = 'center', color = 'white', fontsize = 16, weight='bold')\n",
    "plt.text(1,1, cm[1,1], ha = 'center', va = 'center', color = 'white', fontsize = 16, weight='bold')\n",
    "plt.show()"
   ]
  },
  {
   "cell_type": "code",
   "execution_count": 24,
   "metadata": {},
   "outputs": [
    {
     "data": {
      "image/png": "[encoded data removed]",
      "text/plain": [
       "<Figure size 432x288 with 1 Axes>"
      ]
     },
     "metadata": {
      "needs_background": "light"
     },
     "output_type": "display_data"
    }
   ],
   "source": [
    "cmap = plt.cm.tab20  #different color\n",
    "plt.imshow(cm, cmap=cmap)\n",
    "plt.xticks([0,1],['predicted class 0', 'predicted class 1'], fontsize = 12) \n",
    "plt.yticks([0,1], ['true class 0', 'true class 1'], fontsize = 12 ) \n",
    "plt.text(0,0, cm[0,0], horizontalalignment='center', verticalalignment='center', color='red',fontsize = 16) \n",
    "plt.text(1,0, cm[0,1], horizontalalignment='center', verticalalignment='center', color='red',fontsize = 16) \n",
    "plt.text(0,1, cm[1,0], horizontalalignment='center', verticalalignment='center', color='red',fontsize = 16) \n",
    "plt.text(1,1, cm[1,1], horizontalalignment='center', verticalalignment='center', color='red',fontsize = 16) \n",
    "plt.title('Confusion Matrix for KNN Classification Model 1') \n",
    "plt.show() "
   ]
  },
  {
   "cell_type": "code",
   "execution_count": 25,
   "metadata": {},
   "outputs": [
    {
     "data": {
      "text/plain": [
       "array([[0.33724632, 0.04608493, 1.01533023]])"
      ]
     },
     "execution_count": 25,
     "metadata": {},
     "output_type": "execute_result"
    }
   ],
   "source": [
    "log_reg.coef_"
   ]
  },
  {
   "cell_type": "code",
   "execution_count": 26,
   "metadata": {},
   "outputs": [
    {
     "data": {
      "text/plain": [
       "array([-3.48156365])"
      ]
     },
     "execution_count": 26,
     "metadata": {},
     "output_type": "execute_result"
    }
   ],
   "source": [
    "log_reg.intercept_"
   ]
  },
  {
   "cell_type": "code",
   "execution_count": 27,
   "metadata": {},
   "outputs": [
    {
     "data": {
      "text/plain": [
       "array([-0.68424069, -2.08290217, -0.39307929, -1.07116319, -0.68424069,\n",
       "       -1.69957092,  1.63758118, -0.39307929, -2.03681724, -2.08290217,\n",
       "        0.66833587,  0.03992815,  0.33108955, -1.40840952, -0.34699436,\n",
       "        0.33108955, -0.34699436,  0.62225094,  0.28500462, -1.74565584,\n",
       "        0.28500462, -1.07116319, -0.97540208,  0.62225094,  0.28500462])"
      ]
     },
     "execution_count": 27,
     "metadata": {},
     "output_type": "execute_result"
    }
   ],
   "source": [
    "log_reg.decision_function(X_test)"
   ]
  },
  {
   "cell_type": "code",
   "execution_count": null,
   "metadata": {},
   "outputs": [],
   "source": []
  },
  {
   "cell_type": "code",
   "execution_count": null,
   "metadata": {},
   "outputs": [],
   "source": []
  }
 ],
 "metadata": {
  "kernelspec": {
   "display_name": "Python 3",
   "language": "python",
   "name": "python3"
  },
  "language_info": {
   "codemirror_mode": {
    "name": "ipython",
    "version": 3
   },
   "file_extension": ".py",
   "mimetype": "text/x-python",
   "name": "python",
   "nbconvert_exporter": "python",
   "pygments_lexer": "ipython3",
   "version": "3.8.5"
  }
 },
 "nbformat": 4,
 "nbformat_minor": 4
}
