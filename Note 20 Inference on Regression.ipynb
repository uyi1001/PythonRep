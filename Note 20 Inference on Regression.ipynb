{
 "cells": [
  {
   "cell_type": "code",
   "execution_count": 1,
   "metadata": {},
   "outputs": [],
   "source": [
    "import pandas as pd\n",
    "import numpy as np\n",
    "from sklearn.model_selection import train_test_split"
   ]
  },
  {
   "cell_type": "code",
   "execution_count": 2,
   "metadata": {},
   "outputs": [],
   "source": [
    "data = pd.read_csv(\"hate crime.csv\")"
   ]
  },
  {
   "cell_type": "code",
   "execution_count": 3,
   "metadata": {},
   "outputs": [],
   "source": [
    "data.dropna(inplace=True)"
   ]
  },
  {
   "cell_type": "code",
   "execution_count": 4,
   "metadata": {},
   "outputs": [
    {
     "name": "stdout",
     "output_type": "stream",
     "text": [
      "<class 'pandas.core.frame.DataFrame'>\n",
      "Int64Index: 45 entries, 0 to 49\n",
      "Data columns (total 12 columns):\n",
      " #   Column                                    Non-Null Count  Dtype  \n",
      "---  ------                                    --------------  -----  \n",
      " 0   state                                     45 non-null     object \n",
      " 1   median_household_income                   45 non-null     int64  \n",
      " 2   share_unemployed_seasonal                 45 non-null     float64\n",
      " 3   share_population_in_metro_areas           45 non-null     float64\n",
      " 4   share_population_with_high_school_degree  45 non-null     float64\n",
      " 5   share_non_citizen                         45 non-null     float64\n",
      " 6   share_white_poverty                       45 non-null     float64\n",
      " 7   gini_index                                45 non-null     float64\n",
      " 8   share_non_white                           45 non-null     float64\n",
      " 9   share_voters_voted_trump                  45 non-null     float64\n",
      " 10  hate_crimes_per_100k_splc                 45 non-null     float64\n",
      " 11  avg_hatecrimes_per_100k_fbi               45 non-null     float64\n",
      "dtypes: float64(10), int64(1), object(1)\n",
      "memory usage: 4.6+ KB\n"
     ]
    }
   ],
   "source": [
    "data.info()"
   ]
  },
  {
   "cell_type": "code",
   "execution_count": 5,
   "metadata": {},
   "outputs": [],
   "source": [
    "multi_X = data.iloc[:, [1,2,4,5,6,8,9]].values\n",
    "y = data.iloc[:, 11].values"
   ]
  },
  {
   "cell_type": "code",
   "execution_count": 6,
   "metadata": {},
   "outputs": [],
   "source": [
    "multi_X_train, multi_X_test, multi_y_train, multi_y_test = train_test_split(multi_X, y, test_size = 0.2, random_state = 42)"
   ]
  },
  {
   "cell_type": "code",
   "execution_count": 8,
   "metadata": {},
   "outputs": [],
   "source": [
    "import statsmodels.api as sm"
   ]
  },
  {
   "cell_type": "code",
   "execution_count": 9,
   "metadata": {},
   "outputs": [],
   "source": [
    "multi_X_train = sm.add_constant(multi_X_train)"
   ]
  },
  {
   "cell_type": "code",
   "execution_count": 10,
   "metadata": {},
   "outputs": [
    {
     "data": {
      "text/plain": [
       "array([[1.0000e+00, 4.4922e+04, 5.2000e-02, 8.2400e-01, 4.0000e-02,\n",
       "        1.2000e-01, 2.6000e-01, 6.0000e-01],\n",
       "       [1.0000e+00, 7.0161e+04, 5.2000e-02, 8.8600e-01, 6.0000e-02,\n",
       "        6.0000e-02, 3.0000e-01, 4.1000e-01],\n",
       "       [1.0000e+00, 5.6870e+04, 2.9000e-02, 8.9800e-01, 5.0000e-02,\n",
       "        7.0000e-02, 2.1000e-01, 6.0000e-01],\n",
       "       [1.0000e+00, 4.7199e+04, 4.4000e-02, 8.5600e-01, 4.0000e-02,\n",
       "        1.0000e-01, 3.5000e-01, 6.5000e-01],\n",
       "       [1.0000e+00, 6.3151e+04, 4.6000e-02, 8.9000e-01, 9.0000e-02,\n",
       "        8.0000e-02, 2.7000e-01, 3.4000e-01],\n",
       "       [1.0000e+00, 4.2406e+04, 6.0000e-02, 8.2200e-01, 2.0000e-02,\n",
       "        1.2000e-01, 4.2000e-01, 5.8000e-01],\n",
       "       [1.0000e+00, 4.8060e+04, 4.4000e-02, 8.6600e-01, 3.0000e-02,\n",
       "        1.2000e-01, 2.0000e-01, 5.7000e-01],\n",
       "       [1.0000e+00, 5.9068e+04, 5.2000e-02, 8.9700e-01, 8.0000e-02,\n",
       "        9.0000e-02, 3.1000e-01, 3.8000e-01],\n",
       "       [1.0000e+00, 5.3444e+04, 4.4000e-02, 8.9700e-01, 4.0000e-02,\n",
       "        1.1000e-01, 2.5000e-01, 5.7000e-01],\n",
       "       [1.0000e+00, 4.6140e+04, 5.2000e-02, 8.5300e-01, 9.0000e-02,\n",
       "        1.1000e-01, 4.6000e-01, 4.9000e-01],\n",
       "       [1.0000e+00, 4.2786e+04, 5.0000e-02, 8.1700e-01, 3.0000e-02,\n",
       "        1.7000e-01, 1.5000e-01, 6.3000e-01],\n",
       "       [1.0000e+00, 4.3716e+04, 5.7000e-02, 8.3100e-01, 4.0000e-02,\n",
       "        1.3000e-01, 2.7000e-01, 6.1000e-01],\n",
       "       [1.0000e+00, 4.9644e+04, 4.5000e-02, 8.7600e-01, 3.0000e-02,\n",
       "        1.0000e-01, 2.1000e-01, 5.2000e-01],\n",
       "       [1.0000e+00, 6.5243e+04, 5.6000e-02, 8.7400e-01, 1.1000e-01,\n",
       "        7.0000e-02, 4.4000e-01, 4.2000e-01],\n",
       "       [1.0000e+00, 4.2278e+04, 6.0000e-02, 8.2100e-01, 2.0000e-02,\n",
       "        1.2000e-01, 3.5000e-01, 6.3000e-01],\n",
       "       [1.0000e+00, 4.6784e+04, 5.8000e-02, 8.4300e-01, 5.0000e-02,\n",
       "        1.0000e-01, 3.8000e-01, 5.1000e-01],\n",
       "       [1.0000e+00, 5.4310e+04, 5.1000e-02, 8.4700e-01, 1.0000e-01,\n",
       "        1.0000e-01, 4.2000e-01, 3.7000e-01],\n",
       "       [1.0000e+00, 6.0940e+04, 4.0000e-02, 8.9300e-01, 6.0000e-02,\n",
       "        7.0000e-02, 3.1000e-01, 4.4000e-01],\n",
       "       [1.0000e+00, 5.3438e+04, 4.2000e-02, 8.8400e-01, 4.0000e-02,\n",
       "        1.1000e-01, 1.6000e-01, 5.9000e-01],\n",
       "       [1.0000e+00, 5.8875e+04, 6.2000e-02, 8.9100e-01, 7.0000e-02,\n",
       "        1.0000e-01, 2.6000e-01, 4.1000e-01],\n",
       "       [1.0000e+00, 6.7629e+04, 6.4000e-02, 9.1400e-01, 4.0000e-02,\n",
       "        6.0000e-02, 4.2000e-01, 5.3000e-01],\n",
       "       [1.0000e+00, 6.0708e+04, 3.7000e-02, 9.1000e-01, 1.0000e-02,\n",
       "        1.0000e-01, 6.0000e-02, 3.3000e-01],\n",
       "       [1.0000e+00, 6.7244e+04, 3.8000e-02, 9.1500e-01, 5.0000e-02,\n",
       "        5.0000e-02, 1.8000e-01, 4.5000e-01],\n",
       "       [1.0000e+00, 4.9254e+04, 6.3000e-02, 8.4200e-01, 1.0000e-01,\n",
       "        9.0000e-02, 4.9000e-01, 5.0000e-01],\n",
       "       [1.0000e+00, 5.5173e+04, 5.3000e-02, 8.7900e-01, 3.0000e-02,\n",
       "        9.0000e-02, 2.4000e-01, 4.9000e-01],\n",
       "       [1.0000e+00, 5.1102e+04, 4.1000e-02, 9.0800e-01, 1.0000e-02,\n",
       "        1.0000e-01, 1.0000e-01, 5.7000e-01],\n",
       "       [1.0000e+00, 4.4929e+04, 5.7000e-02, 8.3600e-01, 3.0000e-02,\n",
       "        9.0000e-02, 3.6000e-01, 5.5000e-01],\n",
       "       [1.0000e+00, 4.9555e+04, 5.8000e-02, 8.3900e-01, 8.0000e-02,\n",
       "        9.0000e-02, 4.8000e-01, 5.1000e-01],\n",
       "       [1.0000e+00, 5.6630e+04, 5.3000e-02, 8.6800e-01, 2.0000e-02,\n",
       "        7.0000e-02, 2.0000e-01, 5.7000e-01],\n",
       "       [1.0000e+00, 7.6165e+04, 5.1000e-02, 8.9000e-01, 8.0000e-02,\n",
       "        6.0000e-02, 5.0000e-01, 3.5000e-01],\n",
       "       [1.0000e+00, 5.8080e+04, 4.3000e-02, 8.9800e-01, 3.0000e-02,\n",
       "        9.0000e-02, 2.2000e-01, 4.8000e-01],\n",
       "       [1.0000e+00, 5.2005e+04, 5.0000e-02, 8.7900e-01, 4.0000e-02,\n",
       "        9.0000e-02, 2.4000e-01, 4.8000e-01],\n",
       "       [1.0000e+00, 5.7522e+04, 4.9000e-02, 8.7400e-01, 5.0000e-02,\n",
       "        8.0000e-02, 3.7000e-01, 4.2000e-01],\n",
       "       [1.0000e+00, 5.7810e+04, 3.6000e-02, 9.1400e-01, 3.0000e-02,\n",
       "        9.0000e-02, 1.5000e-01, 5.2000e-01],\n",
       "       [1.0000e+00, 4.6686e+04, 6.8000e-02, 8.2800e-01, 6.0000e-02,\n",
       "        1.0000e-01, 6.2000e-01, 4.0000e-01],\n",
       "       [1.0000e+00, 5.3875e+04, 4.2000e-02, 7.9900e-01, 1.1000e-01,\n",
       "        8.0000e-02, 5.6000e-01, 5.3000e-01]])"
      ]
     },
     "execution_count": 10,
     "metadata": {},
     "output_type": "execute_result"
    }
   ],
   "source": [
    "multi_X_train"
   ]
  },
  {
   "cell_type": "code",
   "execution_count": 11,
   "metadata": {},
   "outputs": [
    {
     "data": {
      "text/plain": [
       "(36, 8)"
      ]
     },
     "execution_count": 11,
     "metadata": {},
     "output_type": "execute_result"
    }
   ],
   "source": [
    "multi_X_train.shape"
   ]
  },
  {
   "cell_type": "code",
   "execution_count": 12,
   "metadata": {},
   "outputs": [
    {
     "data": {
      "text/plain": [
       "(45, 7)"
      ]
     },
     "execution_count": 12,
     "metadata": {},
     "output_type": "execute_result"
    }
   ],
   "source": [
    "multi_X.shape"
   ]
  },
  {
   "cell_type": "code",
   "execution_count": 13,
   "metadata": {},
   "outputs": [
    {
     "data": {
      "text/plain": [
       "(9, 7)"
      ]
     },
     "execution_count": 13,
     "metadata": {},
     "output_type": "execute_result"
    }
   ],
   "source": [
    "multi_X_test.shape"
   ]
  },
  {
   "cell_type": "code",
   "execution_count": 14,
   "metadata": {},
   "outputs": [],
   "source": [
    "stats_reg_model = sm.OLS(multi_y_train, multi_X_train).fit()"
   ]
  },
  {
   "cell_type": "code",
   "execution_count": 15,
   "metadata": {},
   "outputs": [
    {
     "data": {
      "text/html": [
       "<table class=\"simpletable\">\n",
       "<caption>OLS Regression Results</caption>\n",
       "<tr>\n",
       "  <th>Dep. Variable:</th>            <td>y</td>        <th>  R-squared:         </th> <td>   0.443</td>\n",
       "</tr>\n",
       "<tr>\n",
       "  <th>Model:</th>                   <td>OLS</td>       <th>  Adj. R-squared:    </th> <td>   0.303</td>\n",
       "</tr>\n",
       "<tr>\n",
       "  <th>Method:</th>             <td>Least Squares</td>  <th>  F-statistic:       </th> <td>   3.176</td>\n",
       "</tr>\n",
       "<tr>\n",
       "  <th>Date:</th>             <td>Fri, 17 Dec 2021</td> <th>  Prob (F-statistic):</th>  <td>0.0133</td> \n",
       "</tr>\n",
       "<tr>\n",
       "  <th>Time:</th>                 <td>00:26:15</td>     <th>  Log-Likelihood:    </th> <td> -47.219</td>\n",
       "</tr>\n",
       "<tr>\n",
       "  <th>No. Observations:</th>      <td>    36</td>      <th>  AIC:               </th> <td>   110.4</td>\n",
       "</tr>\n",
       "<tr>\n",
       "  <th>Df Residuals:</th>          <td>    28</td>      <th>  BIC:               </th> <td>   123.1</td>\n",
       "</tr>\n",
       "<tr>\n",
       "  <th>Df Model:</th>              <td>     7</td>      <th>                     </th>     <td> </td>   \n",
       "</tr>\n",
       "<tr>\n",
       "  <th>Covariance Type:</th>      <td>nonrobust</td>    <th>                     </th>     <td> </td>   \n",
       "</tr>\n",
       "</table>\n",
       "<table class=\"simpletable\">\n",
       "<tr>\n",
       "    <td></td>       <th>coef</th>     <th>std err</th>      <th>t</th>      <th>P>|t|</th>  <th>[0.025</th>    <th>0.975]</th>  \n",
       "</tr>\n",
       "<tr>\n",
       "  <th>const</th> <td>    4.4882</td> <td>   11.069</td> <td>    0.405</td> <td> 0.688</td> <td>  -18.186</td> <td>   27.162</td>\n",
       "</tr>\n",
       "<tr>\n",
       "  <th>x1</th>    <td> 1.345e-05</td> <td> 4.79e-05</td> <td>    0.281</td> <td> 0.781</td> <td>-8.47e-05</td> <td>    0.000</td>\n",
       "</tr>\n",
       "<tr>\n",
       "  <th>x2</th>    <td>   65.5407</td> <td>   27.846</td> <td>    2.354</td> <td> 0.026</td> <td>    8.500</td> <td>  122.581</td>\n",
       "</tr>\n",
       "<tr>\n",
       "  <th>x3</th>    <td>   -4.7079</td> <td>   11.393</td> <td>   -0.413</td> <td> 0.683</td> <td>  -28.044</td> <td>   18.629</td>\n",
       "</tr>\n",
       "<tr>\n",
       "  <th>x4</th>    <td>   33.0717</td> <td>   10.152</td> <td>    3.258</td> <td> 0.003</td> <td>   12.276</td> <td>   53.868</td>\n",
       "</tr>\n",
       "<tr>\n",
       "  <th>x5</th>    <td>   -2.3748</td> <td>   14.490</td> <td>   -0.164</td> <td> 0.871</td> <td>  -32.057</td> <td>   27.307</td>\n",
       "</tr>\n",
       "<tr>\n",
       "  <th>x6</th>    <td>  -10.1184</td> <td>    2.929</td> <td>   -3.455</td> <td> 0.002</td> <td>  -16.117</td> <td>   -4.120</td>\n",
       "</tr>\n",
       "<tr>\n",
       "  <th>x7</th>    <td>   -1.0155</td> <td>    2.904</td> <td>   -0.350</td> <td> 0.729</td> <td>   -6.964</td> <td>    4.933</td>\n",
       "</tr>\n",
       "</table>\n",
       "<table class=\"simpletable\">\n",
       "<tr>\n",
       "  <th>Omnibus:</th>       <td> 3.708</td> <th>  Durbin-Watson:     </th> <td>   2.152</td>\n",
       "</tr>\n",
       "<tr>\n",
       "  <th>Prob(Omnibus):</th> <td> 0.157</td> <th>  Jarque-Bera (JB):  </th> <td>   2.739</td>\n",
       "</tr>\n",
       "<tr>\n",
       "  <th>Skew:</th>          <td>-0.526</td> <th>  Prob(JB):          </th> <td>   0.254</td>\n",
       "</tr>\n",
       "<tr>\n",
       "  <th>Kurtosis:</th>      <td> 2.151</td> <th>  Cond. No.          </th> <td>9.20e+06</td>\n",
       "</tr>\n",
       "</table><br/><br/>Notes:<br/>[1] Standard Errors assume that the covariance matrix of the errors is correctly specified.<br/>[2] The condition number is large, 9.2e+06. This might indicate that there are<br/>strong multicollinearity or other numerical problems."
      ],
      "text/plain": [
       "<class 'statsmodels.iolib.summary.Summary'>\n",
       "\"\"\"\n",
       "                            OLS Regression Results                            \n",
       "==============================================================================\n",
       "Dep. Variable:                      y   R-squared:                       0.443\n",
       "Model:                            OLS   Adj. R-squared:                  0.303\n",
       "Method:                 Least Squares   F-statistic:                     3.176\n",
       "Date:                Fri, 17 Dec 2021   Prob (F-statistic):             0.0133\n",
       "Time:                        00:26:15   Log-Likelihood:                -47.219\n",
       "No. Observations:                  36   AIC:                             110.4\n",
       "Df Residuals:                      28   BIC:                             123.1\n",
       "Df Model:                           7                                         \n",
       "Covariance Type:            nonrobust                                         \n",
       "==============================================================================\n",
       "                 coef    std err          t      P>|t|      [0.025      0.975]\n",
       "------------------------------------------------------------------------------\n",
       "const          4.4882     11.069      0.405      0.688     -18.186      27.162\n",
       "x1          1.345e-05   4.79e-05      0.281      0.781   -8.47e-05       0.000\n",
       "x2            65.5407     27.846      2.354      0.026       8.500     122.581\n",
       "x3            -4.7079     11.393     -0.413      0.683     -28.044      18.629\n",
       "x4            33.0717     10.152      3.258      0.003      12.276      53.868\n",
       "x5            -2.3748     14.490     -0.164      0.871     -32.057      27.307\n",
       "x6           -10.1184      2.929     -3.455      0.002     -16.117      -4.120\n",
       "x7            -1.0155      2.904     -0.350      0.729      -6.964       4.933\n",
       "==============================================================================\n",
       "Omnibus:                        3.708   Durbin-Watson:                   2.152\n",
       "Prob(Omnibus):                  0.157   Jarque-Bera (JB):                2.739\n",
       "Skew:                          -0.526   Prob(JB):                        0.254\n",
       "Kurtosis:                       2.151   Cond. No.                     9.20e+06\n",
       "==============================================================================\n",
       "\n",
       "Notes:\n",
       "[1] Standard Errors assume that the covariance matrix of the errors is correctly specified.\n",
       "[2] The condition number is large, 9.2e+06. This might indicate that there are\n",
       "strong multicollinearity or other numerical problems.\n",
       "\"\"\""
      ]
     },
     "execution_count": 15,
     "metadata": {},
     "output_type": "execute_result"
    }
   ],
   "source": [
    "stats_reg_model.summary()"
   ]
  },
  {
   "cell_type": "code",
   "execution_count": 16,
   "metadata": {},
   "outputs": [],
   "source": [
    "multi_X_test = sm.add_constant(multi_X_test)"
   ]
  },
  {
   "cell_type": "code",
   "execution_count": 17,
   "metadata": {},
   "outputs": [],
   "source": [
    "predictions = stats_reg_model.predict(multi_X_test)"
   ]
  },
  {
   "cell_type": "code",
   "execution_count": 18,
   "metadata": {},
   "outputs": [
    {
     "data": {
      "text/plain": [
       "array([2.17717086, 3.191053  , 2.86699638, 4.49569385, 4.04467552,\n",
       "       1.63512176, 2.95217362, 2.70718665, 2.82466099])"
      ]
     },
     "execution_count": 18,
     "metadata": {},
     "output_type": "execute_result"
    }
   ],
   "source": [
    "predictions"
   ]
  },
  {
   "cell_type": "code",
   "execution_count": null,
   "metadata": {},
   "outputs": [],
   "source": []
  }
 ],
 "metadata": {
  "kernelspec": {
   "display_name": "Python 3",
   "language": "python",
   "name": "python3"
  },
  "language_info": {
   "codemirror_mode": {
    "name": "ipython",
    "version": 3
   },
   "file_extension": ".py",
   "mimetype": "text/x-python",
   "name": "python",
   "nbconvert_exporter": "python",
   "pygments_lexer": "ipython3",
   "version": "3.8.5"
  }
 },
 "nbformat": 4,
 "nbformat_minor": 4
}
