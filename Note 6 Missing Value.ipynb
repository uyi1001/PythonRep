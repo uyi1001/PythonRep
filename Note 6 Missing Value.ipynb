{
 "cells": [
  {
   "cell_type": "code",
   "execution_count": 1,
   "metadata": {},
   "outputs": [
    {
     "data": {
      "text/plain": [
       "0.3584859224085419"
      ]
     },
     "execution_count": 1,
     "metadata": {},
     "output_type": "execute_result"
    }
   ],
   "source": [
    "(1-0.05)**20  #complete value % of 5% missing value with 20 variables"
   ]
  },
  {
   "cell_type": "code",
   "execution_count": 2,
   "metadata": {},
   "outputs": [],
   "source": [
    "import numpy as np\n",
    "import pandas as pd"
   ]
  },
  {
   "cell_type": "code",
   "execution_count": 3,
   "metadata": {},
   "outputs": [],
   "source": [
    "NBA_dict = {'player' : ['Stephen Curry', 'Bradley Beal', 'Damian Lillard', 'Joel Embiid', 'Giannis Antetokounmpo'],\n",
    "              'team' : ['GSW', 'WAS', 'POR', 'PHI', 'MIL'],\n",
    "              'points/game' : [32, 31.3, 28.8, 28.5, 28.1]}"
   ]
  },
  {
   "cell_type": "code",
   "execution_count": 4,
   "metadata": {},
   "outputs": [],
   "source": [
    "NBA = pd.DataFrame(NBA_dict)"
   ]
  },
  {
   "cell_type": "code",
   "execution_count": 5,
   "metadata": {},
   "outputs": [
    {
     "data": {
      "text/html": [
       "<div>\n",
       "<style scoped>\n",
       "    .dataframe tbody tr th:only-of-type {\n",
       "        vertical-align: middle;\n",
       "    }\n",
       "\n",
       "    .dataframe tbody tr th {\n",
       "        vertical-align: top;\n",
       "    }\n",
       "\n",
       "    .dataframe thead th {\n",
       "        text-align: right;\n",
       "    }\n",
       "</style>\n",
       "<table border=\"1\" class=\"dataframe\">\n",
       "  <thead>\n",
       "    <tr style=\"text-align: right;\">\n",
       "      <th></th>\n",
       "      <th>player</th>\n",
       "      <th>team</th>\n",
       "      <th>points/game</th>\n",
       "    </tr>\n",
       "  </thead>\n",
       "  <tbody>\n",
       "    <tr>\n",
       "      <th>0</th>\n",
       "      <td>Stephen Curry</td>\n",
       "      <td>GSW</td>\n",
       "      <td>32.0</td>\n",
       "    </tr>\n",
       "    <tr>\n",
       "      <th>1</th>\n",
       "      <td>Bradley Beal</td>\n",
       "      <td>WAS</td>\n",
       "      <td>31.3</td>\n",
       "    </tr>\n",
       "    <tr>\n",
       "      <th>2</th>\n",
       "      <td>Damian Lillard</td>\n",
       "      <td>POR</td>\n",
       "      <td>28.8</td>\n",
       "    </tr>\n",
       "    <tr>\n",
       "      <th>3</th>\n",
       "      <td>Joel Embiid</td>\n",
       "      <td>PHI</td>\n",
       "      <td>28.5</td>\n",
       "    </tr>\n",
       "    <tr>\n",
       "      <th>4</th>\n",
       "      <td>Giannis Antetokounmpo</td>\n",
       "      <td>MIL</td>\n",
       "      <td>28.1</td>\n",
       "    </tr>\n",
       "  </tbody>\n",
       "</table>\n",
       "</div>"
      ],
      "text/plain": [
       "                  player team  points/game\n",
       "0          Stephen Curry  GSW         32.0\n",
       "1           Bradley Beal  WAS         31.3\n",
       "2         Damian Lillard  POR         28.8\n",
       "3            Joel Embiid  PHI         28.5\n",
       "4  Giannis Antetokounmpo  MIL         28.1"
      ]
     },
     "execution_count": 5,
     "metadata": {},
     "output_type": "execute_result"
    }
   ],
   "source": [
    "NBA"
   ]
  },
  {
   "cell_type": "code",
   "execution_count": 6,
   "metadata": {},
   "outputs": [],
   "source": [
    "NBA.loc[len(NBA),:] = ['a','b','c']"
   ]
  },
  {
   "cell_type": "code",
   "execution_count": 7,
   "metadata": {},
   "outputs": [
    {
     "data": {
      "text/html": [
       "<div>\n",
       "<style scoped>\n",
       "    .dataframe tbody tr th:only-of-type {\n",
       "        vertical-align: middle;\n",
       "    }\n",
       "\n",
       "    .dataframe tbody tr th {\n",
       "        vertical-align: top;\n",
       "    }\n",
       "\n",
       "    .dataframe thead th {\n",
       "        text-align: right;\n",
       "    }\n",
       "</style>\n",
       "<table border=\"1\" class=\"dataframe\">\n",
       "  <thead>\n",
       "    <tr style=\"text-align: right;\">\n",
       "      <th></th>\n",
       "      <th>player</th>\n",
       "      <th>team</th>\n",
       "      <th>points/game</th>\n",
       "    </tr>\n",
       "  </thead>\n",
       "  <tbody>\n",
       "    <tr>\n",
       "      <th>0</th>\n",
       "      <td>Stephen Curry</td>\n",
       "      <td>GSW</td>\n",
       "      <td>32</td>\n",
       "    </tr>\n",
       "    <tr>\n",
       "      <th>1</th>\n",
       "      <td>Bradley Beal</td>\n",
       "      <td>WAS</td>\n",
       "      <td>31.3</td>\n",
       "    </tr>\n",
       "    <tr>\n",
       "      <th>2</th>\n",
       "      <td>Damian Lillard</td>\n",
       "      <td>POR</td>\n",
       "      <td>28.8</td>\n",
       "    </tr>\n",
       "    <tr>\n",
       "      <th>3</th>\n",
       "      <td>Joel Embiid</td>\n",
       "      <td>PHI</td>\n",
       "      <td>28.5</td>\n",
       "    </tr>\n",
       "    <tr>\n",
       "      <th>4</th>\n",
       "      <td>Giannis Antetokounmpo</td>\n",
       "      <td>MIL</td>\n",
       "      <td>28.1</td>\n",
       "    </tr>\n",
       "    <tr>\n",
       "      <th>5</th>\n",
       "      <td>a</td>\n",
       "      <td>b</td>\n",
       "      <td>c</td>\n",
       "    </tr>\n",
       "  </tbody>\n",
       "</table>\n",
       "</div>"
      ],
      "text/plain": [
       "                  player team points/game\n",
       "0          Stephen Curry  GSW          32\n",
       "1           Bradley Beal  WAS        31.3\n",
       "2         Damian Lillard  POR        28.8\n",
       "3            Joel Embiid  PHI        28.5\n",
       "4  Giannis Antetokounmpo  MIL        28.1\n",
       "5                      a    b           c"
      ]
     },
     "execution_count": 7,
     "metadata": {},
     "output_type": "execute_result"
    }
   ],
   "source": [
    "NBA"
   ]
  },
  {
   "cell_type": "code",
   "execution_count": 8,
   "metadata": {},
   "outputs": [],
   "source": [
    "sales = pd.read_csv('sales.csv')"
   ]
  },
  {
   "cell_type": "code",
   "execution_count": 9,
   "metadata": {},
   "outputs": [
    {
     "data": {
      "text/html": [
       "<div>\n",
       "<style scoped>\n",
       "    .dataframe tbody tr th:only-of-type {\n",
       "        vertical-align: middle;\n",
       "    }\n",
       "\n",
       "    .dataframe tbody tr th {\n",
       "        vertical-align: top;\n",
       "    }\n",
       "\n",
       "    .dataframe thead th {\n",
       "        text-align: right;\n",
       "    }\n",
       "</style>\n",
       "<table border=\"1\" class=\"dataframe\">\n",
       "  <thead>\n",
       "    <tr style=\"text-align: right;\">\n",
       "      <th></th>\n",
       "      <th>categories</th>\n",
       "      <th>Sunday</th>\n",
       "      <th>Monday</th>\n",
       "      <th>Tuesday</th>\n",
       "      <th>Wednesday</th>\n",
       "      <th>Thursday</th>\n",
       "      <th>Friday</th>\n",
       "      <th>Saturday</th>\n",
       "    </tr>\n",
       "  </thead>\n",
       "  <tbody>\n",
       "    <tr>\n",
       "      <th>0</th>\n",
       "      <td>apple</td>\n",
       "      <td>7492.0</td>\n",
       "      <td>8927.0</td>\n",
       "      <td>4390.0</td>\n",
       "      <td>NaN</td>\n",
       "      <td>9323.0</td>\n",
       "      <td>5832.0</td>\n",
       "      <td>5930.0</td>\n",
       "    </tr>\n",
       "    <tr>\n",
       "      <th>1</th>\n",
       "      <td>banana</td>\n",
       "      <td>5832.0</td>\n",
       "      <td>3050.0</td>\n",
       "      <td>NaN</td>\n",
       "      <td>6020.0</td>\n",
       "      <td>NaN</td>\n",
       "      <td>4920.0</td>\n",
       "      <td>8392.0</td>\n",
       "    </tr>\n",
       "    <tr>\n",
       "      <th>2</th>\n",
       "      <td>mango</td>\n",
       "      <td>NaN</td>\n",
       "      <td>6940.0</td>\n",
       "      <td>8593.0</td>\n",
       "      <td>9302.0</td>\n",
       "      <td>4802.0</td>\n",
       "      <td>5849.0</td>\n",
       "      <td>5930.0</td>\n",
       "    </tr>\n",
       "    <tr>\n",
       "      <th>3</th>\n",
       "      <td>NaN</td>\n",
       "      <td>5739.0</td>\n",
       "      <td>9604.0</td>\n",
       "      <td>3020.0</td>\n",
       "      <td>8694.0</td>\n",
       "      <td>2940.0</td>\n",
       "      <td>5302.0</td>\n",
       "      <td>6940.0</td>\n",
       "    </tr>\n",
       "    <tr>\n",
       "      <th>4</th>\n",
       "      <td>strawberry</td>\n",
       "      <td>NaN</td>\n",
       "      <td>4964.0</td>\n",
       "      <td>9044.0</td>\n",
       "      <td>6936.0</td>\n",
       "      <td>9604.0</td>\n",
       "      <td>NaN</td>\n",
       "      <td>3296.0</td>\n",
       "    </tr>\n",
       "    <tr>\n",
       "      <th>5</th>\n",
       "      <td>blueberry</td>\n",
       "      <td>5963.0</td>\n",
       "      <td>3959.0</td>\n",
       "      <td>6005.0</td>\n",
       "      <td>4965.0</td>\n",
       "      <td>NaN</td>\n",
       "      <td>9573.0</td>\n",
       "      <td>NaN</td>\n",
       "    </tr>\n",
       "    <tr>\n",
       "      <th>6</th>\n",
       "      <td>peach</td>\n",
       "      <td>6406.0</td>\n",
       "      <td>NaN</td>\n",
       "      <td>4384.0</td>\n",
       "      <td>NaN</td>\n",
       "      <td>5318.0</td>\n",
       "      <td>3950.0</td>\n",
       "      <td>8393.0</td>\n",
       "    </tr>\n",
       "    <tr>\n",
       "      <th>7</th>\n",
       "      <td>watermelon</td>\n",
       "      <td>5396.0</td>\n",
       "      <td>NaN</td>\n",
       "      <td>5329.0</td>\n",
       "      <td>2368.0</td>\n",
       "      <td>8392.0</td>\n",
       "      <td>5286.0</td>\n",
       "      <td>NaN</td>\n",
       "    </tr>\n",
       "  </tbody>\n",
       "</table>\n",
       "</div>"
      ],
      "text/plain": [
       "   categories  Sunday  Monday  Tuesday  Wednesday  Thursday  Friday  Saturday\n",
       "0       apple  7492.0  8927.0   4390.0        NaN    9323.0  5832.0    5930.0\n",
       "1      banana  5832.0  3050.0      NaN     6020.0       NaN  4920.0    8392.0\n",
       "2       mango     NaN  6940.0   8593.0     9302.0    4802.0  5849.0    5930.0\n",
       "3         NaN  5739.0  9604.0   3020.0     8694.0    2940.0  5302.0    6940.0\n",
       "4  strawberry     NaN  4964.0   9044.0     6936.0    9604.0     NaN    3296.0\n",
       "5   blueberry  5963.0  3959.0   6005.0     4965.0       NaN  9573.0       NaN\n",
       "6       peach  6406.0     NaN   4384.0        NaN    5318.0  3950.0    8393.0\n",
       "7  watermelon  5396.0     NaN   5329.0     2368.0    8392.0  5286.0       NaN"
      ]
     },
     "execution_count": 9,
     "metadata": {},
     "output_type": "execute_result"
    }
   ],
   "source": [
    "sales"
   ]
  },
  {
   "cell_type": "code",
   "execution_count": 10,
   "metadata": {},
   "outputs": [],
   "source": [
    "Nonemissing = sales.dropna()"
   ]
  },
  {
   "cell_type": "code",
   "execution_count": 11,
   "metadata": {},
   "outputs": [
    {
     "data": {
      "text/html": [
       "<div>\n",
       "<style scoped>\n",
       "    .dataframe tbody tr th:only-of-type {\n",
       "        vertical-align: middle;\n",
       "    }\n",
       "\n",
       "    .dataframe tbody tr th {\n",
       "        vertical-align: top;\n",
       "    }\n",
       "\n",
       "    .dataframe thead th {\n",
       "        text-align: right;\n",
       "    }\n",
       "</style>\n",
       "<table border=\"1\" class=\"dataframe\">\n",
       "  <thead>\n",
       "    <tr style=\"text-align: right;\">\n",
       "      <th></th>\n",
       "      <th>categories</th>\n",
       "      <th>Sunday</th>\n",
       "      <th>Monday</th>\n",
       "      <th>Tuesday</th>\n",
       "      <th>Wednesday</th>\n",
       "      <th>Thursday</th>\n",
       "      <th>Friday</th>\n",
       "      <th>Saturday</th>\n",
       "    </tr>\n",
       "  </thead>\n",
       "  <tbody>\n",
       "  </tbody>\n",
       "</table>\n",
       "</div>"
      ],
      "text/plain": [
       "Empty DataFrame\n",
       "Columns: [categories, Sunday, Monday, Tuesday, Wednesday, Thursday, Friday, Saturday]\n",
       "Index: []"
      ]
     },
     "execution_count": 11,
     "metadata": {},
     "output_type": "execute_result"
    }
   ],
   "source": [
    "Nonemissing"
   ]
  },
  {
   "cell_type": "code",
   "execution_count": 12,
   "metadata": {},
   "outputs": [
    {
     "data": {
      "text/html": [
       "<div>\n",
       "<style scoped>\n",
       "    .dataframe tbody tr th:only-of-type {\n",
       "        vertical-align: middle;\n",
       "    }\n",
       "\n",
       "    .dataframe tbody tr th {\n",
       "        vertical-align: top;\n",
       "    }\n",
       "\n",
       "    .dataframe thead th {\n",
       "        text-align: right;\n",
       "    }\n",
       "</style>\n",
       "<table border=\"1\" class=\"dataframe\">\n",
       "  <thead>\n",
       "    <tr style=\"text-align: right;\">\n",
       "      <th></th>\n",
       "      <th>categories</th>\n",
       "      <th>Sunday</th>\n",
       "      <th>Monday</th>\n",
       "      <th>Tuesday</th>\n",
       "      <th>Wednesday</th>\n",
       "      <th>Thursday</th>\n",
       "      <th>Friday</th>\n",
       "      <th>Saturday</th>\n",
       "    </tr>\n",
       "  </thead>\n",
       "  <tbody>\n",
       "    <tr>\n",
       "      <th>0</th>\n",
       "      <td>True</td>\n",
       "      <td>True</td>\n",
       "      <td>True</td>\n",
       "      <td>True</td>\n",
       "      <td>False</td>\n",
       "      <td>True</td>\n",
       "      <td>True</td>\n",
       "      <td>True</td>\n",
       "    </tr>\n",
       "    <tr>\n",
       "      <th>1</th>\n",
       "      <td>True</td>\n",
       "      <td>True</td>\n",
       "      <td>True</td>\n",
       "      <td>False</td>\n",
       "      <td>True</td>\n",
       "      <td>False</td>\n",
       "      <td>True</td>\n",
       "      <td>True</td>\n",
       "    </tr>\n",
       "    <tr>\n",
       "      <th>2</th>\n",
       "      <td>True</td>\n",
       "      <td>False</td>\n",
       "      <td>True</td>\n",
       "      <td>True</td>\n",
       "      <td>True</td>\n",
       "      <td>True</td>\n",
       "      <td>True</td>\n",
       "      <td>True</td>\n",
       "    </tr>\n",
       "    <tr>\n",
       "      <th>3</th>\n",
       "      <td>False</td>\n",
       "      <td>True</td>\n",
       "      <td>True</td>\n",
       "      <td>True</td>\n",
       "      <td>True</td>\n",
       "      <td>True</td>\n",
       "      <td>True</td>\n",
       "      <td>True</td>\n",
       "    </tr>\n",
       "    <tr>\n",
       "      <th>4</th>\n",
       "      <td>True</td>\n",
       "      <td>False</td>\n",
       "      <td>True</td>\n",
       "      <td>True</td>\n",
       "      <td>True</td>\n",
       "      <td>True</td>\n",
       "      <td>False</td>\n",
       "      <td>True</td>\n",
       "    </tr>\n",
       "    <tr>\n",
       "      <th>5</th>\n",
       "      <td>True</td>\n",
       "      <td>True</td>\n",
       "      <td>True</td>\n",
       "      <td>True</td>\n",
       "      <td>True</td>\n",
       "      <td>False</td>\n",
       "      <td>True</td>\n",
       "      <td>False</td>\n",
       "    </tr>\n",
       "    <tr>\n",
       "      <th>6</th>\n",
       "      <td>True</td>\n",
       "      <td>True</td>\n",
       "      <td>False</td>\n",
       "      <td>True</td>\n",
       "      <td>False</td>\n",
       "      <td>True</td>\n",
       "      <td>True</td>\n",
       "      <td>True</td>\n",
       "    </tr>\n",
       "    <tr>\n",
       "      <th>7</th>\n",
       "      <td>True</td>\n",
       "      <td>True</td>\n",
       "      <td>False</td>\n",
       "      <td>True</td>\n",
       "      <td>True</td>\n",
       "      <td>True</td>\n",
       "      <td>True</td>\n",
       "      <td>False</td>\n",
       "    </tr>\n",
       "  </tbody>\n",
       "</table>\n",
       "</div>"
      ],
      "text/plain": [
       "   categories  Sunday  Monday  Tuesday  Wednesday  Thursday  Friday  Saturday\n",
       "0        True    True    True     True      False      True    True      True\n",
       "1        True    True    True    False       True     False    True      True\n",
       "2        True   False    True     True       True      True    True      True\n",
       "3       False    True    True     True       True      True    True      True\n",
       "4        True   False    True     True       True      True   False      True\n",
       "5        True    True    True     True       True     False    True     False\n",
       "6        True    True   False     True      False      True    True      True\n",
       "7        True    True   False     True       True      True    True     False"
      ]
     },
     "execution_count": 12,
     "metadata": {},
     "output_type": "execute_result"
    }
   ],
   "source": [
    "sales.notnull()"
   ]
  },
  {
   "cell_type": "code",
   "execution_count": 13,
   "metadata": {},
   "outputs": [
    {
     "data": {
      "text/html": [
       "<div>\n",
       "<style scoped>\n",
       "    .dataframe tbody tr th:only-of-type {\n",
       "        vertical-align: middle;\n",
       "    }\n",
       "\n",
       "    .dataframe tbody tr th {\n",
       "        vertical-align: top;\n",
       "    }\n",
       "\n",
       "    .dataframe thead th {\n",
       "        text-align: right;\n",
       "    }\n",
       "</style>\n",
       "<table border=\"1\" class=\"dataframe\">\n",
       "  <thead>\n",
       "    <tr style=\"text-align: right;\">\n",
       "      <th></th>\n",
       "      <th>categories</th>\n",
       "      <th>Sunday</th>\n",
       "      <th>Monday</th>\n",
       "      <th>Tuesday</th>\n",
       "      <th>Wednesday</th>\n",
       "      <th>Thursday</th>\n",
       "      <th>Friday</th>\n",
       "      <th>Saturday</th>\n",
       "    </tr>\n",
       "  </thead>\n",
       "  <tbody>\n",
       "    <tr>\n",
       "      <th>1</th>\n",
       "      <td>banana</td>\n",
       "      <td>5832.0</td>\n",
       "      <td>3050.0</td>\n",
       "      <td>NaN</td>\n",
       "      <td>6020.0</td>\n",
       "      <td>NaN</td>\n",
       "      <td>4920.0</td>\n",
       "      <td>8392.0</td>\n",
       "    </tr>\n",
       "    <tr>\n",
       "      <th>2</th>\n",
       "      <td>mango</td>\n",
       "      <td>NaN</td>\n",
       "      <td>6940.0</td>\n",
       "      <td>8593.0</td>\n",
       "      <td>9302.0</td>\n",
       "      <td>4802.0</td>\n",
       "      <td>5849.0</td>\n",
       "      <td>5930.0</td>\n",
       "    </tr>\n",
       "    <tr>\n",
       "      <th>3</th>\n",
       "      <td>NaN</td>\n",
       "      <td>5739.0</td>\n",
       "      <td>9604.0</td>\n",
       "      <td>3020.0</td>\n",
       "      <td>8694.0</td>\n",
       "      <td>2940.0</td>\n",
       "      <td>5302.0</td>\n",
       "      <td>6940.0</td>\n",
       "    </tr>\n",
       "    <tr>\n",
       "      <th>4</th>\n",
       "      <td>strawberry</td>\n",
       "      <td>NaN</td>\n",
       "      <td>4964.0</td>\n",
       "      <td>9044.0</td>\n",
       "      <td>6936.0</td>\n",
       "      <td>9604.0</td>\n",
       "      <td>NaN</td>\n",
       "      <td>3296.0</td>\n",
       "    </tr>\n",
       "    <tr>\n",
       "      <th>5</th>\n",
       "      <td>blueberry</td>\n",
       "      <td>5963.0</td>\n",
       "      <td>3959.0</td>\n",
       "      <td>6005.0</td>\n",
       "      <td>4965.0</td>\n",
       "      <td>NaN</td>\n",
       "      <td>9573.0</td>\n",
       "      <td>NaN</td>\n",
       "    </tr>\n",
       "    <tr>\n",
       "      <th>7</th>\n",
       "      <td>watermelon</td>\n",
       "      <td>5396.0</td>\n",
       "      <td>NaN</td>\n",
       "      <td>5329.0</td>\n",
       "      <td>2368.0</td>\n",
       "      <td>8392.0</td>\n",
       "      <td>5286.0</td>\n",
       "      <td>NaN</td>\n",
       "    </tr>\n",
       "  </tbody>\n",
       "</table>\n",
       "</div>"
      ],
      "text/plain": [
       "   categories  Sunday  Monday  Tuesday  Wednesday  Thursday  Friday  Saturday\n",
       "1      banana  5832.0  3050.0      NaN     6020.0       NaN  4920.0    8392.0\n",
       "2       mango     NaN  6940.0   8593.0     9302.0    4802.0  5849.0    5930.0\n",
       "3         NaN  5739.0  9604.0   3020.0     8694.0    2940.0  5302.0    6940.0\n",
       "4  strawberry     NaN  4964.0   9044.0     6936.0    9604.0     NaN    3296.0\n",
       "5   blueberry  5963.0  3959.0   6005.0     4965.0       NaN  9573.0       NaN\n",
       "7  watermelon  5396.0     NaN   5329.0     2368.0    8392.0  5286.0       NaN"
      ]
     },
     "execution_count": 13,
     "metadata": {},
     "output_type": "execute_result"
    }
   ],
   "source": [
    "sales[sales['Wednesday'].notnull()]"
   ]
  },
  {
   "cell_type": "code",
   "execution_count": 14,
   "metadata": {},
   "outputs": [
    {
     "data": {
      "text/plain": [
       "0     True\n",
       "1    False\n",
       "2    False\n",
       "3    False\n",
       "4    False\n",
       "5    False\n",
       "6     True\n",
       "7    False\n",
       "Name: Wednesday, dtype: bool"
      ]
     },
     "execution_count": 14,
     "metadata": {},
     "output_type": "execute_result"
    }
   ],
   "source": [
    "sales['Wednesday'].isnull()"
   ]
  },
  {
   "cell_type": "code",
   "execution_count": 15,
   "metadata": {},
   "outputs": [
    {
     "data": {
      "text/plain": [
       "categories    1\n",
       "Sunday        2\n",
       "Monday        2\n",
       "Tuesday       1\n",
       "Wednesday     2\n",
       "Thursday      2\n",
       "Friday        1\n",
       "Saturday      2\n",
       "dtype: int64"
      ]
     },
     "execution_count": 15,
     "metadata": {},
     "output_type": "execute_result"
    }
   ],
   "source": [
    "sales.isnull().sum()  #Ture = 1, False = 0"
   ]
  },
  {
   "cell_type": "code",
   "execution_count": 16,
   "metadata": {},
   "outputs": [],
   "source": [
    "a = sales.isnull().sum()  #Ture = 1, False = 0"
   ]
  },
  {
   "cell_type": "code",
   "execution_count": 17,
   "metadata": {},
   "outputs": [
    {
     "data": {
      "text/plain": [
       "pandas.core.series.Series"
      ]
     },
     "execution_count": 17,
     "metadata": {},
     "output_type": "execute_result"
    }
   ],
   "source": [
    "type(a)"
   ]
  },
  {
   "cell_type": "code",
   "execution_count": 18,
   "metadata": {},
   "outputs": [
    {
     "data": {
      "text/plain": [
       "1"
      ]
     },
     "execution_count": 18,
     "metadata": {},
     "output_type": "execute_result"
    }
   ],
   "source": [
    "a[0]"
   ]
  },
  {
   "cell_type": "code",
   "execution_count": 19,
   "metadata": {},
   "outputs": [
    {
     "data": {
      "text/plain": [
       "2"
      ]
     },
     "execution_count": 19,
     "metadata": {},
     "output_type": "execute_result"
    }
   ],
   "source": [
    "a[1]"
   ]
  },
  {
   "cell_type": "code",
   "execution_count": 20,
   "metadata": {},
   "outputs": [
    {
     "data": {
      "text/plain": [
       "Index(['categories', 'Sunday', 'Monday', 'Tuesday', 'Wednesday', 'Thursday',\n",
       "       'Friday', 'Saturday'],\n",
       "      dtype='object')"
      ]
     },
     "execution_count": 20,
     "metadata": {},
     "output_type": "execute_result"
    }
   ],
   "source": [
    "a.index"
   ]
  },
  {
   "cell_type": "code",
   "execution_count": 21,
   "metadata": {},
   "outputs": [
    {
     "data": {
      "text/html": [
       "<div>\n",
       "<style scoped>\n",
       "    .dataframe tbody tr th:only-of-type {\n",
       "        vertical-align: middle;\n",
       "    }\n",
       "\n",
       "    .dataframe tbody tr th {\n",
       "        vertical-align: top;\n",
       "    }\n",
       "\n",
       "    .dataframe thead th {\n",
       "        text-align: right;\n",
       "    }\n",
       "</style>\n",
       "<table border=\"1\" class=\"dataframe\">\n",
       "  <thead>\n",
       "    <tr style=\"text-align: right;\">\n",
       "      <th></th>\n",
       "      <th>categories</th>\n",
       "      <th>Sunday</th>\n",
       "      <th>Monday</th>\n",
       "      <th>Tuesday</th>\n",
       "      <th>Wednesday</th>\n",
       "      <th>Thursday</th>\n",
       "      <th>Friday</th>\n",
       "      <th>Saturday</th>\n",
       "    </tr>\n",
       "  </thead>\n",
       "  <tbody>\n",
       "    <tr>\n",
       "      <th>0</th>\n",
       "      <td>apple</td>\n",
       "      <td>7492.0</td>\n",
       "      <td>8927.000000</td>\n",
       "      <td>4390.000000</td>\n",
       "      <td>6380.833333</td>\n",
       "      <td>9323.000000</td>\n",
       "      <td>5832.0</td>\n",
       "      <td>5930.000000</td>\n",
       "    </tr>\n",
       "    <tr>\n",
       "      <th>1</th>\n",
       "      <td>banana</td>\n",
       "      <td>5832.0</td>\n",
       "      <td>3050.000000</td>\n",
       "      <td>5823.571429</td>\n",
       "      <td>6020.000000</td>\n",
       "      <td>6729.833333</td>\n",
       "      <td>4920.0</td>\n",
       "      <td>8392.000000</td>\n",
       "    </tr>\n",
       "    <tr>\n",
       "      <th>2</th>\n",
       "      <td>mango</td>\n",
       "      <td>6138.0</td>\n",
       "      <td>6940.000000</td>\n",
       "      <td>8593.000000</td>\n",
       "      <td>9302.000000</td>\n",
       "      <td>4802.000000</td>\n",
       "      <td>5849.0</td>\n",
       "      <td>5930.000000</td>\n",
       "    </tr>\n",
       "    <tr>\n",
       "      <th>3</th>\n",
       "      <td>NaN</td>\n",
       "      <td>5739.0</td>\n",
       "      <td>9604.000000</td>\n",
       "      <td>3020.000000</td>\n",
       "      <td>8694.000000</td>\n",
       "      <td>2940.000000</td>\n",
       "      <td>5302.0</td>\n",
       "      <td>6940.000000</td>\n",
       "    </tr>\n",
       "    <tr>\n",
       "      <th>4</th>\n",
       "      <td>strawberry</td>\n",
       "      <td>6138.0</td>\n",
       "      <td>4964.000000</td>\n",
       "      <td>9044.000000</td>\n",
       "      <td>6936.000000</td>\n",
       "      <td>9604.000000</td>\n",
       "      <td>5816.0</td>\n",
       "      <td>3296.000000</td>\n",
       "    </tr>\n",
       "    <tr>\n",
       "      <th>5</th>\n",
       "      <td>blueberry</td>\n",
       "      <td>5963.0</td>\n",
       "      <td>3959.000000</td>\n",
       "      <td>6005.000000</td>\n",
       "      <td>4965.000000</td>\n",
       "      <td>6729.833333</td>\n",
       "      <td>9573.0</td>\n",
       "      <td>6480.166667</td>\n",
       "    </tr>\n",
       "    <tr>\n",
       "      <th>6</th>\n",
       "      <td>peach</td>\n",
       "      <td>6406.0</td>\n",
       "      <td>6240.666667</td>\n",
       "      <td>4384.000000</td>\n",
       "      <td>6380.833333</td>\n",
       "      <td>5318.000000</td>\n",
       "      <td>3950.0</td>\n",
       "      <td>8393.000000</td>\n",
       "    </tr>\n",
       "    <tr>\n",
       "      <th>7</th>\n",
       "      <td>watermelon</td>\n",
       "      <td>5396.0</td>\n",
       "      <td>6240.666667</td>\n",
       "      <td>5329.000000</td>\n",
       "      <td>2368.000000</td>\n",
       "      <td>8392.000000</td>\n",
       "      <td>5286.0</td>\n",
       "      <td>6480.166667</td>\n",
       "    </tr>\n",
       "  </tbody>\n",
       "</table>\n",
       "</div>"
      ],
      "text/plain": [
       "   categories  Sunday       Monday      Tuesday    Wednesday     Thursday  \\\n",
       "0       apple  7492.0  8927.000000  4390.000000  6380.833333  9323.000000   \n",
       "1      banana  5832.0  3050.000000  5823.571429  6020.000000  6729.833333   \n",
       "2       mango  6138.0  6940.000000  8593.000000  9302.000000  4802.000000   \n",
       "3         NaN  5739.0  9604.000000  3020.000000  8694.000000  2940.000000   \n",
       "4  strawberry  6138.0  4964.000000  9044.000000  6936.000000  9604.000000   \n",
       "5   blueberry  5963.0  3959.000000  6005.000000  4965.000000  6729.833333   \n",
       "6       peach  6406.0  6240.666667  4384.000000  6380.833333  5318.000000   \n",
       "7  watermelon  5396.0  6240.666667  5329.000000  2368.000000  8392.000000   \n",
       "\n",
       "   Friday     Saturday  \n",
       "0  5832.0  5930.000000  \n",
       "1  4920.0  8392.000000  \n",
       "2  5849.0  5930.000000  \n",
       "3  5302.0  6940.000000  \n",
       "4  5816.0  3296.000000  \n",
       "5  9573.0  6480.166667  \n",
       "6  3950.0  8393.000000  \n",
       "7  5286.0  6480.166667  "
      ]
     },
     "execution_count": 21,
     "metadata": {},
     "output_type": "execute_result"
    }
   ],
   "source": [
    "sales.fillna(sales.mean())"
   ]
  },
  {
   "cell_type": "code",
   "execution_count": 22,
   "metadata": {},
   "outputs": [
    {
     "data": {
      "text/plain": [
       "6138.0"
      ]
     },
     "execution_count": 22,
     "metadata": {},
     "output_type": "execute_result"
    }
   ],
   "source": [
    "sales['Sunday'].mean()"
   ]
  },
  {
   "cell_type": "code",
   "execution_count": 23,
   "metadata": {},
   "outputs": [
    {
     "data": {
      "text/plain": [
       "Sunday       6138.000000\n",
       "Monday       6240.666667\n",
       "Tuesday      5823.571429\n",
       "Wednesday    6380.833333\n",
       "Thursday     6729.833333\n",
       "Friday       5816.000000\n",
       "Saturday     6480.166667\n",
       "dtype: float64"
      ]
     },
     "execution_count": 23,
     "metadata": {},
     "output_type": "execute_result"
    }
   ],
   "source": [
    "sales.mean()"
   ]
  },
  {
   "cell_type": "code",
   "execution_count": null,
   "metadata": {},
   "outputs": [],
   "source": []
  }
 ],
 "metadata": {
  "kernelspec": {
   "display_name": "Python 3",
   "language": "python",
   "name": "python3"
  },
  "language_info": {
   "codemirror_mode": {
    "name": "ipython",
    "version": 3
   },
   "file_extension": ".py",
   "mimetype": "text/x-python",
   "name": "python",
   "nbconvert_exporter": "python",
   "pygments_lexer": "ipython3",
   "version": "3.8.5"
  }
 },
 "nbformat": 4,
 "nbformat_minor": 4
}
