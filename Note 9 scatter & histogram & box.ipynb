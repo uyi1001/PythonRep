{
 "cells": [
  {
   "cell_type": "code",
   "execution_count": 1,
   "metadata": {},
   "outputs": [],
   "source": [
    "import pandas as pd\n",
    "import numpy as np\n",
    "import matplotlib.pyplot as plt"
   ]
  },
  {
   "cell_type": "code",
   "execution_count": 2,
   "metadata": {},
   "outputs": [],
   "source": [
    "data = pd.read_csv('price_cost.csv')"
   ]
  },
  {
   "cell_type": "code",
   "execution_count": 3,
   "metadata": {},
   "outputs": [
    {
     "data": {
      "text/html": [
       "<div>\n",
       "<style scoped>\n",
       "    .dataframe tbody tr th:only-of-type {\n",
       "        vertical-align: middle;\n",
       "    }\n",
       "\n",
       "    .dataframe tbody tr th {\n",
       "        vertical-align: top;\n",
       "    }\n",
       "\n",
       "    .dataframe thead th {\n",
       "        text-align: right;\n",
       "    }\n",
       "</style>\n",
       "<table border=\"1\" class=\"dataframe\">\n",
       "  <thead>\n",
       "    <tr style=\"text-align: right;\">\n",
       "      <th></th>\n",
       "      <th>category</th>\n",
       "      <th>price</th>\n",
       "      <th>material cost</th>\n",
       "    </tr>\n",
       "  </thead>\n",
       "  <tbody>\n",
       "    <tr>\n",
       "      <th>0</th>\n",
       "      <td>3</td>\n",
       "      <td>7.20</td>\n",
       "      <td>5.377778</td>\n",
       "    </tr>\n",
       "    <tr>\n",
       "      <th>1</th>\n",
       "      <td>1</td>\n",
       "      <td>4.88</td>\n",
       "      <td>3.395556</td>\n",
       "    </tr>\n",
       "    <tr>\n",
       "      <th>2</th>\n",
       "      <td>1</td>\n",
       "      <td>6.25</td>\n",
       "      <td>4.534444</td>\n",
       "    </tr>\n",
       "    <tr>\n",
       "      <th>3</th>\n",
       "      <td>1</td>\n",
       "      <td>11.39</td>\n",
       "      <td>9.212222</td>\n",
       "    </tr>\n",
       "    <tr>\n",
       "      <th>4</th>\n",
       "      <td>2</td>\n",
       "      <td>9.35</td>\n",
       "      <td>6.710000</td>\n",
       "    </tr>\n",
       "    <tr>\n",
       "      <th>5</th>\n",
       "      <td>3</td>\n",
       "      <td>2.39</td>\n",
       "      <td>1.394444</td>\n",
       "    </tr>\n",
       "    <tr>\n",
       "      <th>6</th>\n",
       "      <td>1</td>\n",
       "      <td>5.51</td>\n",
       "      <td>4.461111</td>\n",
       "    </tr>\n",
       "    <tr>\n",
       "      <th>7</th>\n",
       "      <td>2</td>\n",
       "      <td>7.32</td>\n",
       "      <td>6.662222</td>\n",
       "    </tr>\n",
       "    <tr>\n",
       "      <th>8</th>\n",
       "      <td>2</td>\n",
       "      <td>12.83</td>\n",
       "      <td>10.101111</td>\n",
       "    </tr>\n",
       "    <tr>\n",
       "      <th>9</th>\n",
       "      <td>2</td>\n",
       "      <td>4.28</td>\n",
       "      <td>3.968889</td>\n",
       "    </tr>\n",
       "  </tbody>\n",
       "</table>\n",
       "</div>"
      ],
      "text/plain": [
       "   category  price  material cost\n",
       "0         3   7.20       5.377778\n",
       "1         1   4.88       3.395556\n",
       "2         1   6.25       4.534444\n",
       "3         1  11.39       9.212222\n",
       "4         2   9.35       6.710000\n",
       "5         3   2.39       1.394444\n",
       "6         1   5.51       4.461111\n",
       "7         2   7.32       6.662222\n",
       "8         2  12.83      10.101111\n",
       "9         2   4.28       3.968889"
      ]
     },
     "execution_count": 3,
     "metadata": {},
     "output_type": "execute_result"
    }
   ],
   "source": [
    "data.head(10)"
   ]
  },
  {
   "cell_type": "code",
   "execution_count": 4,
   "metadata": {},
   "outputs": [
    {
     "data": {
      "text/plain": [
       "array([3, 1, 2], dtype=int64)"
      ]
     },
     "execution_count": 4,
     "metadata": {},
     "output_type": "execute_result"
    }
   ],
   "source": [
    "data['category'].unique()"
   ]
  },
  {
   "cell_type": "code",
   "execution_count": 5,
   "metadata": {
    "scrolled": true
   },
   "outputs": [
    {
     "data": {
      "text/plain": [
       "2    43\n",
       "1    30\n",
       "3    27\n",
       "Name: category, dtype: int64"
      ]
     },
     "execution_count": 5,
     "metadata": {},
     "output_type": "execute_result"
    }
   ],
   "source": [
    "data['category'].value_counts()"
   ]
  },
  {
   "cell_type": "code",
   "execution_count": 6,
   "metadata": {
    "scrolled": true
   },
   "outputs": [
    {
     "data": {
      "image/png": "[encoded data removed]",
      "text/plain": [
       "<Figure size 432x288 with 1 Axes>"
      ]
     },
     "metadata": {
      "needs_background": "light"
     },
     "output_type": "display_data"
    }
   ],
   "source": [
    "plt.scatter(data['material cost'], data['price'],\n",
    "            s = 8,\n",
    "            c = data['category'],\n",
    "            alpha = 0.5)\n",
    "plt.title('scatterplot of price and cost')\n",
    "plt.xlabel('material cost')\n",
    "plt.ylabel('price')\n",
    "plt.show()"
   ]
  },
  {
   "cell_type": "code",
   "execution_count": 7,
   "metadata": {},
   "outputs": [
    {
     "name": "stdout",
     "output_type": "stream",
     "text": [
      "<class 'pandas.core.frame.DataFrame'>\n",
      "RangeIndex: 100 entries, 0 to 99\n",
      "Data columns (total 3 columns):\n",
      " #   Column         Non-Null Count  Dtype  \n",
      "---  ------         --------------  -----  \n",
      " 0   category       100 non-null    int64  \n",
      " 1   price          100 non-null    float64\n",
      " 2   material cost  100 non-null    float64\n",
      "dtypes: float64(2), int64(1)\n",
      "memory usage: 2.5 KB\n"
     ]
    }
   ],
   "source": [
    "data.info()"
   ]
  },
  {
   "cell_type": "code",
   "execution_count": 8,
   "metadata": {},
   "outputs": [
    {
     "data": {
      "text/html": [
       "<div>\n",
       "<style scoped>\n",
       "    .dataframe tbody tr th:only-of-type {\n",
       "        vertical-align: middle;\n",
       "    }\n",
       "\n",
       "    .dataframe tbody tr th {\n",
       "        vertical-align: top;\n",
       "    }\n",
       "\n",
       "    .dataframe thead th {\n",
       "        text-align: right;\n",
       "    }\n",
       "</style>\n",
       "<table border=\"1\" class=\"dataframe\">\n",
       "  <thead>\n",
       "    <tr style=\"text-align: right;\">\n",
       "      <th></th>\n",
       "      <th>category</th>\n",
       "      <th>price</th>\n",
       "      <th>material cost</th>\n",
       "    </tr>\n",
       "  </thead>\n",
       "  <tbody>\n",
       "    <tr>\n",
       "      <th>count</th>\n",
       "      <td>100.000000</td>\n",
       "      <td>100.000000</td>\n",
       "      <td>100.000000</td>\n",
       "    </tr>\n",
       "    <tr>\n",
       "      <th>mean</th>\n",
       "      <td>1.970000</td>\n",
       "      <td>14.121128</td>\n",
       "      <td>10.039097</td>\n",
       "    </tr>\n",
       "    <tr>\n",
       "      <th>std</th>\n",
       "      <td>0.758188</td>\n",
       "      <td>5.355217</td>\n",
       "      <td>4.492794</td>\n",
       "    </tr>\n",
       "    <tr>\n",
       "      <th>min</th>\n",
       "      <td>1.000000</td>\n",
       "      <td>2.390000</td>\n",
       "      <td>1.394444</td>\n",
       "    </tr>\n",
       "    <tr>\n",
       "      <th>25%</th>\n",
       "      <td>1.000000</td>\n",
       "      <td>9.951384</td>\n",
       "      <td>6.993531</td>\n",
       "    </tr>\n",
       "    <tr>\n",
       "      <th>50%</th>\n",
       "      <td>2.000000</td>\n",
       "      <td>14.203581</td>\n",
       "      <td>9.152222</td>\n",
       "    </tr>\n",
       "    <tr>\n",
       "      <th>75%</th>\n",
       "      <td>3.000000</td>\n",
       "      <td>17.912404</td>\n",
       "      <td>12.326364</td>\n",
       "    </tr>\n",
       "    <tr>\n",
       "      <th>max</th>\n",
       "      <td>3.000000</td>\n",
       "      <td>26.248551</td>\n",
       "      <td>22.342178</td>\n",
       "    </tr>\n",
       "  </tbody>\n",
       "</table>\n",
       "</div>"
      ],
      "text/plain": [
       "         category       price  material cost\n",
       "count  100.000000  100.000000     100.000000\n",
       "mean     1.970000   14.121128      10.039097\n",
       "std      0.758188    5.355217       4.492794\n",
       "min      1.000000    2.390000       1.394444\n",
       "25%      1.000000    9.951384       6.993531\n",
       "50%      2.000000   14.203581       9.152222\n",
       "75%      3.000000   17.912404      12.326364\n",
       "max      3.000000   26.248551      22.342178"
      ]
     },
     "execution_count": 8,
     "metadata": {},
     "output_type": "execute_result"
    }
   ],
   "source": [
    "data.describe()"
   ]
  },
  {
   "cell_type": "code",
   "execution_count": 9,
   "metadata": {},
   "outputs": [
    {
     "data": {
      "image/png": "[encoded data removed]",
      "text/plain": [
       "<Figure size 432x288 with 1 Axes>"
      ]
     },
     "metadata": {
      "needs_background": "light"
     },
     "output_type": "display_data"
    }
   ],
   "source": [
    "x = np.linspace(0,23,1000)\n",
    "plt.scatter(data['material cost'], data['price'],\n",
    "            s = 8,\n",
    "            c = data['category'],\n",
    "            alpha = 0.5)\n",
    "z = np.polyfit(x = data['material cost'], y = data['price'], deg = 1)\n",
    "plt.plot(x, z[0]*x + z[1], 'r--')\n",
    "plt.title('scatterplot of price and cost')\n",
    "plt.xlabel('material cost')\n",
    "plt.ylabel('price')\n",
    "plt.show()"
   ]
  },
  {
   "cell_type": "code",
   "execution_count": 10,
   "metadata": {},
   "outputs": [
    {
     "data": {
      "image/png": "[encoded data removed]",
      "text/plain": [
       "<Figure size 432x288 with 1 Axes>"
      ]
     },
     "metadata": {
      "needs_background": "light"
     },
     "output_type": "display_data"
    }
   ],
   "source": [
    "x = np.linspace(1,23,1000)\n",
    "plt.scatter(data['material cost'], data['price'],\n",
    "            s = 8,\n",
    "            c = data['category'],\n",
    "            alpha = 0.5)\n",
    "z = np.polyfit(x = data['material cost'], y = data['price'], deg = 3)\n",
    "plt.plot(x, z[0]*x**3 + z[1]*x**2 + z[2]*x**1 + z[3], 'r--')\n",
    "plt.title('scatterplot of price and cost')\n",
    "plt.xlabel('material cost')\n",
    "plt.ylabel('price')\n",
    "plt.show()"
   ]
  },
  {
   "cell_type": "code",
   "execution_count": 11,
   "metadata": {},
   "outputs": [
    {
     "data": {
      "image/png": "[encoded data removed]",
      "text/plain": [
       "<Figure size 432x288 with 1 Axes>"
      ]
     },
     "metadata": {
      "needs_background": "light"
     },
     "output_type": "display_data"
    }
   ],
   "source": [
    "plt.hist(data['price'],\n",
    "         bins = 10,\n",
    "         color = 'green',\n",
    "         edgecolor = 'black',\n",
    "         label = 'price')\n",
    "plt.legend()\n",
    "plt.show()"
   ]
  },
  {
   "cell_type": "code",
   "execution_count": 12,
   "metadata": {},
   "outputs": [
    {
     "data": {
      "image/png": "[encoded data removed]",
      "text/plain": [
       "<Figure size 432x288 with 1 Axes>"
      ]
     },
     "metadata": {
      "needs_background": "light"
     },
     "output_type": "display_data"
    }
   ],
   "source": [
    "plt.hist(data['price'],\n",
    "         bins = 10,\n",
    "         label = 'price')\n",
    "plt.hist(data['material cost'],\n",
    "         bins = 10,\n",
    "         label = 'cost', alpha = 0.5)\n",
    "plt.legend()\n",
    "plt.show()"
   ]
  },
  {
   "cell_type": "code",
   "execution_count": 13,
   "metadata": {},
   "outputs": [
    {
     "data": {
      "image/png": "[encoded data removed]",
      "text/plain": [
       "<Figure size 432x288 with 1 Axes>"
      ]
     },
     "metadata": {
      "needs_background": "light"
     },
     "output_type": "display_data"
    }
   ],
   "source": [
    "plt.hist([data['material cost'], data['price']], bins = 10, color = ['g','r'], label=['cost','price'])\n",
    "plt.legend(loc = 'upper right')\n",
    "plt.show()"
   ]
  },
  {
   "cell_type": "code",
   "execution_count": 14,
   "metadata": {},
   "outputs": [],
   "source": [
    "from scipy import stats"
   ]
  },
  {
   "cell_type": "code",
   "execution_count": 15,
   "metadata": {},
   "outputs": [
    {
     "data": {
      "text/plain": [
       "<function matplotlib.pyplot.show(close=None, block=None)>"
      ]
     },
     "execution_count": 15,
     "metadata": {},
     "output_type": "execute_result"
    },
    {
     "data": {
      "image/png": "[encoded data removed]",
      "text/plain": [
       "<Figure size 432x288 with 1 Axes>"
      ]
     },
     "metadata": {
      "needs_background": "light"
     },
     "output_type": "display_data"
    }
   ],
   "source": [
    "kde = stats.gaussian_kde(data['price'])\n",
    "x = np.linspace(0,26,1000)\n",
    "plt.plot(x, kde(x), label = 'Density of the data points')\n",
    "plt.hist(data['price'], label = 'price', density = True)\n",
    "plt.legend()\n",
    "plt.show"
   ]
  },
  {
   "cell_type": "code",
   "execution_count": 16,
   "metadata": {},
   "outputs": [
    {
     "data": {
      "text/plain": [
       "array([0.00188771, 0.00192664, 0.00196619, 0.00200638, 0.00204722,\n",
       "       0.0020887 , 0.00213084, 0.00217364, 0.00221711, 0.00226125,\n",
       "       0.00230607, 0.00235158, 0.00239779, 0.0024447 , 0.00249231,\n",
       "       0.00254064, 0.00258968, 0.00263946, 0.00268996, 0.00274121,\n",
       "       0.0027932 , 0.00284594, 0.00289944, 0.0029537 , 0.00300873,\n",
       "       0.00306454, 0.00312113, 0.00317851, 0.00323668, 0.00329565,\n",
       "       0.00335543, 0.00341602, 0.00347743, 0.00353966, 0.00360272,\n",
       "       0.00366662, 0.00373136, 0.00379694, 0.00386337, 0.00393066,\n",
       "       0.00399881, 0.00406783, 0.00413772, 0.00420848, 0.00428013,\n",
       "       0.00435267, 0.0044261 , 0.00450042, 0.00457565, 0.00465178,\n",
       "       0.00472882, 0.00480678, 0.00488565, 0.00496545, 0.00504617,\n",
       "       0.00512783, 0.00521042, 0.00529395, 0.00537842, 0.00546384,\n",
       "       0.0055502 , 0.00563752, 0.00572579, 0.00581503, 0.00590522,\n",
       "       0.00599637, 0.00608849, 0.00618158, 0.00627564, 0.00637068,\n",
       "       0.00646669, 0.00656367, 0.00666164, 0.00676058, 0.00686051,\n",
       "       0.00696141, 0.00706331, 0.00716618, 0.00727005, 0.00737489,\n",
       "       0.00748073, 0.00758755, 0.00769536, 0.00780415, 0.00791393,\n",
       "       0.0080247 , 0.00813645, 0.00824918, 0.0083629 , 0.0084776 ,\n",
       "       0.00859328, 0.00870994, 0.00882758, 0.00894619, 0.00906578,\n",
       "       0.00918634, 0.00930786, 0.00943036, 0.00955381, 0.00967822,\n",
       "       0.00980359, 0.00992992, 0.01005719, 0.0101854 , 0.01031456,\n",
       "       0.01044466, 0.01057569, 0.01070764, 0.01084052, 0.01097431,\n",
       "       0.01110902, 0.01124463, 0.01138115, 0.01151856, 0.01165686,\n",
       "       0.01179604, 0.0119361 , 0.01207703, 0.01221882, 0.01236146,\n",
       "       0.01250496, 0.01264929, 0.01279446, 0.01294046, 0.01308727,\n",
       "       0.01323489, 0.01338331, 0.01353253, 0.01368252, 0.0138333 ,\n",
       "       0.01398484, 0.01413713, 0.01429017, 0.01444395, 0.01459846,\n",
       "       0.01475368, 0.01490961, 0.01506624, 0.01522355, 0.01538154,\n",
       "       0.0155402 , 0.01569951, 0.01585947, 0.01602006, 0.01618127,\n",
       "       0.01634309, 0.0165055 , 0.01666851, 0.01683209, 0.01699623,\n",
       "       0.01716093, 0.01732616, 0.01749193, 0.0176582 , 0.01782498,\n",
       "       0.01799225, 0.01816   , 0.01832821, 0.01849688, 0.01866598,\n",
       "       0.01883551, 0.01900546, 0.0191758 , 0.01934653, 0.01951764,\n",
       "       0.01968911, 0.01986093, 0.02003309, 0.02020557, 0.02037835,\n",
       "       0.02055144, 0.0207248 , 0.02089844, 0.02107233, 0.02124646,\n",
       "       0.02142083, 0.02159541, 0.0217702 , 0.02194517, 0.02212033,\n",
       "       0.02229565, 0.02247111, 0.02264672, 0.02282245, 0.0229983 ,\n",
       "       0.02317424, 0.02335027, 0.02352638, 0.02370255, 0.02387876,\n",
       "       0.02405501, 0.02423129, 0.02440757, 0.02458386, 0.02476013,\n",
       "       0.02493638, 0.02511259, 0.02528876, 0.02546486, 0.02564089,\n",
       "       0.02581684, 0.0259927 , 0.02616845, 0.02634408, 0.02651958,\n",
       "       0.02669495, 0.02687017, 0.02704523, 0.02722012, 0.02739483,\n",
       "       0.02756935, 0.02774367, 0.02791778, 0.02809168, 0.02826535,\n",
       "       0.02843878, 0.02861196, 0.02878489, 0.02895756, 0.02912996,\n",
       "       0.02930207, 0.0294739 , 0.02964544, 0.02981667, 0.02998759,\n",
       "       0.0301582 , 0.03032848, 0.03049842, 0.03066804, 0.0308373 ,\n",
       "       0.03100622, 0.03117478, 0.03134298, 0.03151081, 0.03167827,\n",
       "       0.03184535, 0.03201204, 0.03217835, 0.03234427, 0.03250979,\n",
       "       0.03267491, 0.03283962, 0.03300392, 0.03316782, 0.0333313 ,\n",
       "       0.03349435, 0.03365699, 0.03381921, 0.03398099, 0.03414235,\n",
       "       0.03430328, 0.03446378, 0.03462384, 0.03478346, 0.03494265,\n",
       "       0.03510139, 0.0352597 , 0.03541757, 0.035575  , 0.03573198,\n",
       "       0.03588853, 0.03604463, 0.03620029, 0.03635551, 0.03651029,\n",
       "       0.03666463, 0.03681853, 0.03697199, 0.03712502, 0.03727761,\n",
       "       0.03742976, 0.03758148, 0.03773277, 0.03788362, 0.03803405,\n",
       "       0.03818406, 0.03833364, 0.0384828 , 0.03863154, 0.03877986,\n",
       "       0.03892777, 0.03907527, 0.03922236, 0.03936905, 0.03951533,\n",
       "       0.03966122, 0.0398067 , 0.0399518 , 0.04009651, 0.04024083,\n",
       "       0.04038477, 0.04052833, 0.04067151, 0.04081432, 0.04095677,\n",
       "       0.04109885, 0.04124057, 0.04138193, 0.04152295, 0.04166361,\n",
       "       0.04180393, 0.04194391, 0.04208355, 0.04222286, 0.04236184,\n",
       "       0.0425005 , 0.04263883, 0.04277685, 0.04291456, 0.04305196,\n",
       "       0.04318905, 0.04332584, 0.04346233, 0.04359854, 0.04373445,\n",
       "       0.04387007, 0.04400542, 0.04414049, 0.04427528, 0.0444098 ,\n",
       "       0.04454405, 0.04467805, 0.04481178, 0.04494525, 0.04507847,\n",
       "       0.04521144, 0.04534416, 0.04547663, 0.04560887, 0.04574086,\n",
       "       0.04587262, 0.04600415, 0.04613545, 0.04626652, 0.04639736,\n",
       "       0.04652798, 0.04665838, 0.04678856, 0.04691852, 0.04704827,\n",
       "       0.0471778 , 0.04730712, 0.04743623, 0.04756513, 0.04769382,\n",
       "       0.04782231, 0.04795059, 0.04807867, 0.04820654, 0.04833421,\n",
       "       0.04846167, 0.04858894, 0.048716  , 0.04884285, 0.04896951,\n",
       "       0.04909596, 0.04922221, 0.04934826, 0.0494741 , 0.04959974,\n",
       "       0.04972517, 0.0498504 , 0.04997542, 0.05010023, 0.05022483,\n",
       "       0.05034922, 0.05047339, 0.05059735, 0.05072109, 0.05084461,\n",
       "       0.05096791, 0.05109098, 0.05121383, 0.05133645, 0.05145884,\n",
       "       0.05158099, 0.05170291, 0.05182458, 0.05194601, 0.05206719,\n",
       "       0.05218812, 0.0523088 , 0.05242921, 0.05254936, 0.05266925,\n",
       "       0.05278886, 0.0529082 , 0.05302727, 0.05314604, 0.05326453,\n",
       "       0.05338272, 0.05350062, 0.05361821, 0.0537355 , 0.05385247,\n",
       "       0.05396912, 0.05408545, 0.05420145, 0.05431711, 0.05443244,\n",
       "       0.05454742, 0.05466205, 0.05477632, 0.05489022, 0.05500376,\n",
       "       0.05511692, 0.0552297 , 0.0553421 , 0.05545409, 0.05556569,\n",
       "       0.05567688, 0.05578766, 0.05589802, 0.05600796, 0.05611746,\n",
       "       0.05622652, 0.05633513, 0.05644329, 0.056551  , 0.05665823,\n",
       "       0.056765  , 0.05687128, 0.05697708, 0.05708238, 0.05718718,\n",
       "       0.05729148, 0.05739526, 0.05749852, 0.05760125, 0.05770344,\n",
       "       0.05780509, 0.05790619, 0.05800674, 0.05810672, 0.05820613,\n",
       "       0.05830496, 0.05840321, 0.05850087, 0.05859793, 0.05869438,\n",
       "       0.05879022, 0.05888544, 0.05898004, 0.059074  , 0.05916732,\n",
       "       0.05925999, 0.05935201, 0.05944337, 0.05953406, 0.05962408,\n",
       "       0.05971342, 0.05980207, 0.05989002, 0.05997728, 0.06006382,\n",
       "       0.06014966, 0.06023477, 0.06031916, 0.06040281, 0.06048573,\n",
       "       0.0605679 , 0.06064932, 0.06072998, 0.06080987, 0.060889  ,\n",
       "       0.06096735, 0.06104492, 0.0611217 , 0.06119769, 0.06127288,\n",
       "       0.06134726, 0.06142084, 0.06149359, 0.06156553, 0.06163664,\n",
       "       0.06170691, 0.06177635, 0.06184495, 0.0619127 , 0.06197959,\n",
       "       0.06204563, 0.0621108 , 0.06217511, 0.06223854, 0.06230109,\n",
       "       0.06236276, 0.06242355, 0.06248344, 0.06254244, 0.06260054,\n",
       "       0.06265773, 0.06271401, 0.06276938, 0.06282383, 0.06287736,\n",
       "       0.06292997, 0.06298164, 0.06303238, 0.06308219, 0.06313105,\n",
       "       0.06317897, 0.06322594, 0.06327196, 0.06331703, 0.06336113,\n",
       "       0.06340428, 0.06344646, 0.06348767, 0.06352791, 0.06356718,\n",
       "       0.06360547, 0.06364278, 0.06367911, 0.06371446, 0.06374881,\n",
       "       0.06378218, 0.06381455, 0.06384593, 0.06387631, 0.0639057 ,\n",
       "       0.06393407, 0.06396145, 0.06398782, 0.06401318, 0.06403753,\n",
       "       0.06406088, 0.0640832 , 0.06410451, 0.06412481, 0.06414409,\n",
       "       0.06416235, 0.06417958, 0.0641958 , 0.06421099, 0.06422516,\n",
       "       0.0642383 , 0.06425041, 0.0642615 , 0.06427156, 0.06428059,\n",
       "       0.06428858, 0.06429555, 0.06430149, 0.0643064 , 0.06431027,\n",
       "       0.06431311, 0.06431492, 0.06431569, 0.06431544, 0.06431415,\n",
       "       0.06431182, 0.06430847, 0.06430408, 0.06429865, 0.0642922 ,\n",
       "       0.06428471, 0.06427619, 0.06426665, 0.06425607, 0.06424446,\n",
       "       0.06423182, 0.06421815, 0.06420346, 0.06418774, 0.064171  ,\n",
       "       0.06415323, 0.06413443, 0.06411462, 0.06409378, 0.06407193,\n",
       "       0.06404906, 0.06402517, 0.06400026, 0.06397435, 0.06394742,\n",
       "       0.06391948, 0.06389053, 0.06386058, 0.06382962, 0.06379766,\n",
       "       0.0637647 , 0.06373074, 0.06369579, 0.06365984, 0.0636229 ,\n",
       "       0.06358497, 0.06354605, 0.06350615, 0.06346526, 0.0634234 ,\n",
       "       0.06338056, 0.06333674, 0.06329195, 0.0632462 , 0.06319947,\n",
       "       0.06315179, 0.06310314, 0.06305353, 0.06300297, 0.06295146,\n",
       "       0.06289899, 0.06284558, 0.06279123, 0.06273594, 0.06267971,\n",
       "       0.06262255, 0.06256445, 0.06250543, 0.06244548, 0.06238462,\n",
       "       0.06232283, 0.06226013, 0.06219652, 0.062132  , 0.06206657,\n",
       "       0.06200025, 0.06193302, 0.0618649 , 0.06179589, 0.061726  ,\n",
       "       0.06165521, 0.06158355, 0.06151101, 0.06143759, 0.0613633 ,\n",
       "       0.06128815, 0.06121213, 0.06113525, 0.06105751, 0.06097892,\n",
       "       0.06089948, 0.06081919, 0.06073806, 0.06065608, 0.06057327,\n",
       "       0.06048963, 0.06040515, 0.06031985, 0.06023373, 0.06014678,\n",
       "       0.06005902, 0.05997044, 0.05988106, 0.05979086, 0.05969986,\n",
       "       0.05960807, 0.05951547, 0.05942208, 0.0593279 , 0.05923293,\n",
       "       0.05913717, 0.05904064, 0.05894332, 0.05884523, 0.05874637,\n",
       "       0.05864674, 0.05854634, 0.05844518, 0.05834326, 0.05824059,\n",
       "       0.05813715, 0.05803297, 0.05792804, 0.05782236, 0.05771594,\n",
       "       0.05760879, 0.05750089, 0.05739226, 0.0572829 , 0.05717282,\n",
       "       0.057062  , 0.05695047, 0.05683822, 0.05672525, 0.05661156,\n",
       "       0.05649717, 0.05638207, 0.05626626, 0.05614975, 0.05603254,\n",
       "       0.05591463, 0.05579603, 0.05567674, 0.05555676, 0.0554361 ,\n",
       "       0.05531475, 0.05519272, 0.05507001, 0.05494664, 0.05482259,\n",
       "       0.05469787, 0.05457248, 0.05444644, 0.05431973, 0.05419237,\n",
       "       0.05406436, 0.05393569, 0.05380638, 0.05367642, 0.05354582,\n",
       "       0.05341458, 0.05328271, 0.0531502 , 0.05301707, 0.05288331,\n",
       "       0.05274893, 0.05261393, 0.05247831, 0.05234209, 0.05220525,\n",
       "       0.05206781, 0.05192976, 0.05179112, 0.05165189, 0.05151206,\n",
       "       0.05137164, 0.05123064, 0.05108907, 0.05094691, 0.05080418,\n",
       "       0.05066089, 0.05051703, 0.05037261, 0.05022764, 0.05008211,\n",
       "       0.04993604, 0.04978942, 0.04964227, 0.04949458, 0.04934635,\n",
       "       0.04919761, 0.04904834, 0.04889856, 0.04874826, 0.04859746,\n",
       "       0.04844616, 0.04829435, 0.04814206, 0.04798928, 0.04783602,\n",
       "       0.04768227, 0.04752806, 0.04737338, 0.04721824, 0.04706265,\n",
       "       0.0469066 , 0.04675011, 0.04659317, 0.04643581, 0.04627801,\n",
       "       0.0461198 , 0.04596116, 0.04580212, 0.04564267, 0.04548282,\n",
       "       0.04532258, 0.04516195, 0.04500094, 0.04483956, 0.0446778 ,\n",
       "       0.04451569, 0.04435322, 0.0441904 , 0.04402724, 0.04386374,\n",
       "       0.04369991, 0.04353575, 0.04337128, 0.0432065 , 0.04304142,\n",
       "       0.04287604, 0.04271037, 0.04254442, 0.04237819, 0.04221169,\n",
       "       0.04204493, 0.04187792, 0.04171065, 0.04154315, 0.04137541,\n",
       "       0.04120744, 0.04103926, 0.04087086, 0.04070225, 0.04053345,\n",
       "       0.04036446, 0.04019528, 0.04002592, 0.0398564 , 0.03968671,\n",
       "       0.03951687, 0.03934689, 0.03917676, 0.0390065 , 0.03883611,\n",
       "       0.03866561, 0.038495  , 0.03832428, 0.03815347, 0.03798257,\n",
       "       0.03781159, 0.03764053, 0.03746941, 0.03729823, 0.037127  ,\n",
       "       0.03695572, 0.03678441, 0.03661307, 0.03644171, 0.03627033,\n",
       "       0.03609895, 0.03592756, 0.03575619, 0.03558483, 0.03541349,\n",
       "       0.03524218, 0.0350709 , 0.03489967, 0.03472849, 0.03455737,\n",
       "       0.03438632, 0.03421533, 0.03404443, 0.03387361, 0.03370289,\n",
       "       0.03353226, 0.03336175, 0.03319134, 0.03302106, 0.03285091,\n",
       "       0.03268089, 0.03251101, 0.03234128, 0.03217171, 0.03200229,\n",
       "       0.03183305, 0.03166398, 0.03149509, 0.03132638, 0.03115787,\n",
       "       0.03098957, 0.03082146, 0.03065357, 0.0304859 , 0.03031845,\n",
       "       0.03015124, 0.02998426, 0.02981752, 0.02965104, 0.0294848 ,\n",
       "       0.02931883, 0.02915313, 0.02898769, 0.02882253, 0.02865766,\n",
       "       0.02849307, 0.02832878, 0.02816478, 0.02800109, 0.02783771,\n",
       "       0.02767464, 0.02751189, 0.02734947, 0.02718737, 0.02702561,\n",
       "       0.02686419, 0.02670311, 0.02654237, 0.02638199, 0.02622197,\n",
       "       0.02606231, 0.02590301, 0.02574408, 0.02558553, 0.02542735,\n",
       "       0.02526956, 0.02511215, 0.02495512, 0.0247985 , 0.02464226,\n",
       "       0.02448643, 0.024331  , 0.02417598, 0.02402137, 0.02386717,\n",
       "       0.02371339, 0.02356003, 0.02340709, 0.02325458, 0.02310249,\n",
       "       0.02295084, 0.02279962, 0.02264883, 0.02249849, 0.02234858,\n",
       "       0.02219912, 0.02205011, 0.02190154, 0.02175342, 0.02160576,\n",
       "       0.02145855, 0.02131179, 0.0211655 , 0.02101966, 0.02087428,\n",
       "       0.02072937, 0.02058492, 0.02044093, 0.02029742, 0.02015437,\n",
       "       0.02001179, 0.01986968, 0.01972805, 0.01958689, 0.0194462 ,\n",
       "       0.01930598, 0.01916625, 0.01902699, 0.0188882 , 0.0187499 ,\n",
       "       0.01861207, 0.01847473, 0.01833786, 0.01820147, 0.01806557,\n",
       "       0.01793014, 0.0177952 , 0.01766074, 0.01752676, 0.01739327,\n",
       "       0.01726026, 0.01712773, 0.01699568, 0.01686412, 0.01673304,\n",
       "       0.01660245, 0.01647234, 0.01634271, 0.01621357, 0.01608491,\n",
       "       0.01595673, 0.01582904, 0.01570183, 0.0155751 , 0.01544886,\n",
       "       0.0153231 , 0.01519783, 0.01507303, 0.01494872, 0.0148249 ,\n",
       "       0.01470156, 0.0145787 , 0.01445632, 0.01433442, 0.01421301,\n",
       "       0.01409208, 0.01397163, 0.01385167, 0.01373219, 0.01361319,\n",
       "       0.01349467, 0.01337664, 0.01325909, 0.01314202, 0.01302543,\n",
       "       0.01290933, 0.01279371, 0.01267858, 0.01256393, 0.01244976,\n",
       "       0.01233608, 0.01222288, 0.01211017, 0.01199794, 0.0118862 ,\n",
       "       0.01177494, 0.01166418, 0.0115539 , 0.0114441 , 0.0113348 ,\n",
       "       0.01122599, 0.01111766, 0.01100983, 0.01090249, 0.01079564,\n",
       "       0.01068929, 0.01058343, 0.01047807, 0.0103732 , 0.01026883,\n",
       "       0.01016496, 0.01006158, 0.00995871, 0.00985634, 0.00975448,\n",
       "       0.00965312, 0.00955226, 0.00945192, 0.00935208, 0.00925275])"
      ]
     },
     "execution_count": 16,
     "metadata": {},
     "output_type": "execute_result"
    }
   ],
   "source": [
    "kde(x)"
   ]
  },
  {
   "cell_type": "code",
   "execution_count": 17,
   "metadata": {},
   "outputs": [
    {
     "data": {
      "image/png": "[encoded data removed]",
      "text/plain": [
       "<Figure size 432x288 with 1 Axes>"
      ]
     },
     "metadata": {
      "needs_background": "light"
     },
     "output_type": "display_data"
    }
   ],
   "source": [
    "plt.boxplot([data['price'], data['material cost']], labels = ['price','cost'],patch_artist = False)\n",
    "plt.show()"
   ]
  }
 ],
 "metadata": {
  "kernelspec": {
   "display_name": "Python 3",
   "language": "python",
   "name": "python3"
  },
  "language_info": {
   "codemirror_mode": {
    "name": "ipython",
    "version": 3
   },
   "file_extension": ".py",
   "mimetype": "text/x-python",
   "name": "python",
   "nbconvert_exporter": "python",
   "pygments_lexer": "ipython3",
   "version": "3.8.5"
  }
 },
 "nbformat": 4,
 "nbformat_minor": 4
}
